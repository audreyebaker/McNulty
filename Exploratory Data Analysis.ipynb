{
 "cells": [
  {
   "cell_type": "code",
   "execution_count": 1,
   "metadata": {
    "collapsed": true
   },
   "outputs": [],
   "source": [
    "import pandas as pd\n",
    "import numpy as np\n",
    "import matplotlib.pyplot as plt\n",
    "import seaborn as sns\n",
    "\n",
    "% matplotlib inline"
   ]
  },
  {
   "cell_type": "code",
   "execution_count": 8,
   "metadata": {},
   "outputs": [
    {
     "ename": "KeyboardInterrupt",
     "evalue": "",
     "output_type": "error",
     "traceback": [
      "\u001b[0;31m---------------------------------------------------------------------------\u001b[0m",
      "\u001b[0;31mKeyboardInterrupt\u001b[0m                         Traceback (most recent call last)",
      "\u001b[0;32m<ipython-input-8-a24d5fca5607>\u001b[0m in \u001b[0;36m<module>\u001b[0;34m()\u001b[0m\n\u001b[0;32m----> 1\u001b[0;31m \u001b[0mnatality_df\u001b[0m \u001b[0;34m=\u001b[0m \u001b[0mpd\u001b[0m\u001b[0;34m.\u001b[0m\u001b[0mread_csv\u001b[0m\u001b[0;34m(\u001b[0m\u001b[0;34m'natl2016.csv'\u001b[0m\u001b[0;34m)\u001b[0m\u001b[0;34m\u001b[0m\u001b[0m\n\u001b[0m",
      "\u001b[0;32m~/anaconda3/lib/python3.6/site-packages/pandas/io/parsers.py\u001b[0m in \u001b[0;36mparser_f\u001b[0;34m(filepath_or_buffer, sep, delimiter, header, names, index_col, usecols, squeeze, prefix, mangle_dupe_cols, dtype, engine, converters, true_values, false_values, skipinitialspace, skiprows, nrows, na_values, keep_default_na, na_filter, verbose, skip_blank_lines, parse_dates, infer_datetime_format, keep_date_col, date_parser, dayfirst, iterator, chunksize, compression, thousands, decimal, lineterminator, quotechar, quoting, escapechar, comment, encoding, dialect, tupleize_cols, error_bad_lines, warn_bad_lines, skipfooter, skip_footer, doublequote, delim_whitespace, as_recarray, compact_ints, use_unsigned, low_memory, buffer_lines, memory_map, float_precision)\u001b[0m\n\u001b[1;32m    653\u001b[0m                     skip_blank_lines=skip_blank_lines)\n\u001b[1;32m    654\u001b[0m \u001b[0;34m\u001b[0m\u001b[0m\n\u001b[0;32m--> 655\u001b[0;31m         \u001b[0;32mreturn\u001b[0m \u001b[0m_read\u001b[0m\u001b[0;34m(\u001b[0m\u001b[0mfilepath_or_buffer\u001b[0m\u001b[0;34m,\u001b[0m \u001b[0mkwds\u001b[0m\u001b[0;34m)\u001b[0m\u001b[0;34m\u001b[0m\u001b[0m\n\u001b[0m\u001b[1;32m    656\u001b[0m \u001b[0;34m\u001b[0m\u001b[0m\n\u001b[1;32m    657\u001b[0m     \u001b[0mparser_f\u001b[0m\u001b[0;34m.\u001b[0m\u001b[0m__name__\u001b[0m \u001b[0;34m=\u001b[0m \u001b[0mname\u001b[0m\u001b[0;34m\u001b[0m\u001b[0m\n",
      "\u001b[0;32m~/anaconda3/lib/python3.6/site-packages/pandas/io/parsers.py\u001b[0m in \u001b[0;36m_read\u001b[0;34m(filepath_or_buffer, kwds)\u001b[0m\n\u001b[1;32m    409\u001b[0m \u001b[0;34m\u001b[0m\u001b[0m\n\u001b[1;32m    410\u001b[0m     \u001b[0;32mtry\u001b[0m\u001b[0;34m:\u001b[0m\u001b[0;34m\u001b[0m\u001b[0m\n\u001b[0;32m--> 411\u001b[0;31m         \u001b[0mdata\u001b[0m \u001b[0;34m=\u001b[0m \u001b[0mparser\u001b[0m\u001b[0;34m.\u001b[0m\u001b[0mread\u001b[0m\u001b[0;34m(\u001b[0m\u001b[0mnrows\u001b[0m\u001b[0;34m)\u001b[0m\u001b[0;34m\u001b[0m\u001b[0m\n\u001b[0m\u001b[1;32m    412\u001b[0m     \u001b[0;32mfinally\u001b[0m\u001b[0;34m:\u001b[0m\u001b[0;34m\u001b[0m\u001b[0m\n\u001b[1;32m    413\u001b[0m         \u001b[0mparser\u001b[0m\u001b[0;34m.\u001b[0m\u001b[0mclose\u001b[0m\u001b[0;34m(\u001b[0m\u001b[0;34m)\u001b[0m\u001b[0;34m\u001b[0m\u001b[0m\n",
      "\u001b[0;32m~/anaconda3/lib/python3.6/site-packages/pandas/io/parsers.py\u001b[0m in \u001b[0;36mread\u001b[0;34m(self, nrows)\u001b[0m\n\u001b[1;32m   1003\u001b[0m                 \u001b[0;32mraise\u001b[0m \u001b[0mValueError\u001b[0m\u001b[0;34m(\u001b[0m\u001b[0;34m'skipfooter not supported for iteration'\u001b[0m\u001b[0;34m)\u001b[0m\u001b[0;34m\u001b[0m\u001b[0m\n\u001b[1;32m   1004\u001b[0m \u001b[0;34m\u001b[0m\u001b[0m\n\u001b[0;32m-> 1005\u001b[0;31m         \u001b[0mret\u001b[0m \u001b[0;34m=\u001b[0m \u001b[0mself\u001b[0m\u001b[0;34m.\u001b[0m\u001b[0m_engine\u001b[0m\u001b[0;34m.\u001b[0m\u001b[0mread\u001b[0m\u001b[0;34m(\u001b[0m\u001b[0mnrows\u001b[0m\u001b[0;34m)\u001b[0m\u001b[0;34m\u001b[0m\u001b[0m\n\u001b[0m\u001b[1;32m   1006\u001b[0m \u001b[0;34m\u001b[0m\u001b[0m\n\u001b[1;32m   1007\u001b[0m         \u001b[0;32mif\u001b[0m \u001b[0mself\u001b[0m\u001b[0;34m.\u001b[0m\u001b[0moptions\u001b[0m\u001b[0;34m.\u001b[0m\u001b[0mget\u001b[0m\u001b[0;34m(\u001b[0m\u001b[0;34m'as_recarray'\u001b[0m\u001b[0;34m)\u001b[0m\u001b[0;34m:\u001b[0m\u001b[0;34m\u001b[0m\u001b[0m\n",
      "\u001b[0;32m~/anaconda3/lib/python3.6/site-packages/pandas/io/parsers.py\u001b[0m in \u001b[0;36mread\u001b[0;34m(self, nrows)\u001b[0m\n\u001b[1;32m   1746\u001b[0m     \u001b[0;32mdef\u001b[0m \u001b[0mread\u001b[0m\u001b[0;34m(\u001b[0m\u001b[0mself\u001b[0m\u001b[0;34m,\u001b[0m \u001b[0mnrows\u001b[0m\u001b[0;34m=\u001b[0m\u001b[0;32mNone\u001b[0m\u001b[0;34m)\u001b[0m\u001b[0;34m:\u001b[0m\u001b[0;34m\u001b[0m\u001b[0m\n\u001b[1;32m   1747\u001b[0m         \u001b[0;32mtry\u001b[0m\u001b[0;34m:\u001b[0m\u001b[0;34m\u001b[0m\u001b[0m\n\u001b[0;32m-> 1748\u001b[0;31m             \u001b[0mdata\u001b[0m \u001b[0;34m=\u001b[0m \u001b[0mself\u001b[0m\u001b[0;34m.\u001b[0m\u001b[0m_reader\u001b[0m\u001b[0;34m.\u001b[0m\u001b[0mread\u001b[0m\u001b[0;34m(\u001b[0m\u001b[0mnrows\u001b[0m\u001b[0;34m)\u001b[0m\u001b[0;34m\u001b[0m\u001b[0m\n\u001b[0m\u001b[1;32m   1749\u001b[0m         \u001b[0;32mexcept\u001b[0m \u001b[0mStopIteration\u001b[0m\u001b[0;34m:\u001b[0m\u001b[0;34m\u001b[0m\u001b[0m\n\u001b[1;32m   1750\u001b[0m             \u001b[0;32mif\u001b[0m \u001b[0mself\u001b[0m\u001b[0;34m.\u001b[0m\u001b[0m_first_chunk\u001b[0m\u001b[0;34m:\u001b[0m\u001b[0;34m\u001b[0m\u001b[0m\n",
      "\u001b[0;32mpandas/_libs/parsers.pyx\u001b[0m in \u001b[0;36mpandas._libs.parsers.TextReader.read (pandas/_libs/parsers.c:10862)\u001b[0;34m()\u001b[0m\n",
      "\u001b[0;32mpandas/_libs/parsers.pyx\u001b[0m in \u001b[0;36mpandas._libs.parsers.TextReader._read_low_memory (pandas/_libs/parsers.c:11138)\u001b[0;34m()\u001b[0m\n",
      "\u001b[0;32mpandas/_libs/parsers.pyx\u001b[0m in \u001b[0;36mpandas._libs.parsers.TextReader._read_rows (pandas/_libs/parsers.c:12175)\u001b[0;34m()\u001b[0m\n",
      "\u001b[0;32mpandas/_libs/parsers.pyx\u001b[0m in \u001b[0;36mpandas._libs.parsers.TextReader._convert_column_data (pandas/_libs/parsers.c:14136)\u001b[0;34m()\u001b[0m\n",
      "\u001b[0;32mpandas/_libs/parsers.pyx\u001b[0m in \u001b[0;36mpandas._libs.parsers.TextReader._convert_tokens (pandas/_libs/parsers.c:14858)\u001b[0;34m()\u001b[0m\n",
      "\u001b[0;32mpandas/_libs/parsers.pyx\u001b[0m in \u001b[0;36mpandas._libs.parsers.TextReader._convert_with_dtype (pandas/_libs/parsers.c:15629)\u001b[0;34m()\u001b[0m\n",
      "\u001b[0;32m~/anaconda3/lib/python3.6/site-packages/pandas/core/dtypes/common.py\u001b[0m in \u001b[0;36mis_integer_dtype\u001b[0;34m(arr_or_dtype)\u001b[0m\n\u001b[1;32m    738\u001b[0m \u001b[0;34m\u001b[0m\u001b[0m\n\u001b[1;32m    739\u001b[0m \u001b[0;34m\u001b[0m\u001b[0m\n\u001b[0;32m--> 740\u001b[0;31m \u001b[0;32mdef\u001b[0m \u001b[0mis_integer_dtype\u001b[0m\u001b[0;34m(\u001b[0m\u001b[0marr_or_dtype\u001b[0m\u001b[0;34m)\u001b[0m\u001b[0;34m:\u001b[0m\u001b[0;34m\u001b[0m\u001b[0m\n\u001b[0m\u001b[1;32m    741\u001b[0m     \"\"\"\n\u001b[1;32m    742\u001b[0m     \u001b[0mCheck\u001b[0m \u001b[0mwhether\u001b[0m \u001b[0mthe\u001b[0m \u001b[0mprovided\u001b[0m \u001b[0marray\u001b[0m \u001b[0;32mor\u001b[0m \u001b[0mdtype\u001b[0m \u001b[0;32mis\u001b[0m \u001b[0mof\u001b[0m \u001b[0man\u001b[0m \u001b[0minteger\u001b[0m \u001b[0mdtype\u001b[0m\u001b[0;34m.\u001b[0m\u001b[0;34m\u001b[0m\u001b[0m\n",
      "\u001b[0;31mKeyboardInterrupt\u001b[0m: "
     ]
    }
   ],
   "source": [
    "natality_df = pd.read_csv('natl2016.csv')"
   ]
  },
  {
   "cell_type": "code",
   "execution_count": 8,
   "metadata": {},
   "outputs": [
    {
     "name": "stdout",
     "output_type": "stream",
     "text": [
      "<class 'pandas.core.frame.DataFrame'>\n",
      "RangeIndex: 3956112 entries, 0 to 3956111\n",
      "Data columns (total 240 columns):\n",
      "dob_yy          3956112 non-null int64\n",
      "dob_mm          3956112 non-null int64\n",
      "dob_tt          3956112 non-null int64\n",
      "dob_wk          3956112 non-null int64\n",
      "bfacil          3956112 non-null int64\n",
      "f_facility      3956112 non-null int64\n",
      "bfacil3         3956112 non-null int64\n",
      "mage_impflg     405 non-null float64\n",
      "mage_repflg     167 non-null float64\n",
      "mager           3956112 non-null int64\n",
      "mager14         3956112 non-null int64\n",
      "mager9          3956112 non-null int64\n",
      "mbstate_rec     3956112 non-null int64\n",
      "restatus        3956112 non-null int64\n",
      "mrace31         3956112 non-null int64\n",
      "mrace6          3956112 non-null int64\n",
      "mrace15         3956112 non-null int64\n",
      "mbrace          3956112 non-null int64\n",
      "mraceimp        239921 non-null float64\n",
      "mhisp_r         3956112 non-null int64\n",
      "f_mhisp         3956112 non-null int64\n",
      "mracehisp       3956112 non-null int64\n",
      "mar_p           3956112 non-null object\n",
      "dmar            3956112 non-null int64\n",
      "mar_imp         2048 non-null float64\n",
      "f_mar_p         3956112 non-null int64\n",
      "meduc           3956112 non-null int64\n",
      "f_meduc         3956112 non-null int64\n",
      "fagerpt_flg     5334 non-null float64\n",
      "fagecomb        3956112 non-null int64\n",
      "fagerec11       3956112 non-null int64\n",
      "frace31         3956112 non-null int64\n",
      "frace6          3956112 non-null int64\n",
      "frace15         3956112 non-null int64\n",
      "fbrace          3956112 non-null int64\n",
      "fhisp_r         3956112 non-null int64\n",
      "f_fhisp         3956112 non-null int64\n",
      "fracehisp       3956112 non-null int64\n",
      "feduc           3956112 non-null int64\n",
      "priorlive       3956112 non-null int64\n",
      "priordead       3956112 non-null int64\n",
      "priorterm       3956112 non-null int64\n",
      "lbo_rec         3956112 non-null int64\n",
      "tbo_rec         3956112 non-null int64\n",
      "illb_r          3956112 non-null int64\n",
      "illb_r11        3956112 non-null int64\n",
      "ilop_r          3956112 non-null int64\n",
      "ilop_r11        3956112 non-null int64\n",
      "ilp_r           3956112 non-null int64\n",
      "ilp_r11         3956112 non-null int64\n",
      "precare         3956112 non-null int64\n",
      "f_mpcb          3956112 non-null int64\n",
      "precare5        3956112 non-null int64\n",
      "previs          3956112 non-null int64\n",
      "previs_rec      3956112 non-null int64\n",
      "f_tpcv          3956112 non-null int64\n",
      "wic             3956112 non-null object\n",
      "f_wic           3956112 non-null int64\n",
      "cig_0           3956112 non-null int64\n",
      "cig_1           3956112 non-null int64\n",
      "cig_2           3956112 non-null int64\n",
      "cig_3           3956112 non-null int64\n",
      "cig0_r          3956112 non-null int64\n",
      "cig1_r          3956112 non-null int64\n",
      "cig2_r          3956112 non-null int64\n",
      "cig3_r          3956112 non-null int64\n",
      "f_cigs_0        3956112 non-null int64\n",
      "f_cigs_1        3956112 non-null int64\n",
      "f_cigs_2        3956112 non-null int64\n",
      "f_cigs_3        3956112 non-null int64\n",
      "cig_rec         3956112 non-null object\n",
      "f_tobaco        3956112 non-null int64\n",
      "m_ht_in         3956112 non-null int64\n",
      "f_m_ht          3956112 non-null int64\n",
      "bmi             3956112 non-null float64\n",
      "bmi_r           3956112 non-null int64\n",
      "pwgt_r          3956112 non-null int64\n",
      "f_pwgt          3956112 non-null int64\n",
      "dwgt_r          3956112 non-null int64\n",
      "f_dwgt          3956112 non-null int64\n",
      "wtgain          3956112 non-null int64\n",
      "wtgain_rec      3956112 non-null int64\n",
      "f_wtgain        3956112 non-null int64\n",
      "rf_pdiab        3956112 non-null object\n",
      "rf_gdiab        3956112 non-null object\n",
      "rf_phype        3956112 non-null object\n",
      "rf_ghype        3956112 non-null object\n",
      "rf_ehype        3956112 non-null object\n",
      "rf_ppterm       3956112 non-null object\n",
      "f_rf_pdiab      3956112 non-null int64\n",
      "f_rf_gdiab      3956112 non-null int64\n",
      "f_rf_phyper     3956112 non-null int64\n",
      "f_rf_ghyper     3956112 non-null int64\n",
      "f_rf_eclamp     3956112 non-null int64\n",
      "f_rf_ppb        3956112 non-null int64\n",
      "rf_inftr        3956112 non-null object\n",
      "rf_fedrg        3956112 non-null object\n",
      "rf_artec        3956112 non-null object\n",
      "f_rf_inf_drg    3956112 non-null int64\n",
      "f_rf_inf_art    3956112 non-null int64\n",
      "rf_cesar        3956112 non-null object\n",
      "rf_cesarn       3956112 non-null int64\n",
      "f_rf_cesar      3956112 non-null int64\n",
      "f_rf_ncesar     3956112 non-null int64\n",
      "no_risks        3956112 non-null int64\n",
      "ip_gon          3956112 non-null object\n",
      "ip_syph         3956112 non-null object\n",
      "ip_chlam        3956112 non-null object\n",
      "ip_hepatb       3956112 non-null object\n",
      "ip_hepatc       3956112 non-null object\n",
      "f_ip_gonor      3956112 non-null int64\n",
      "f_ip_syph       3956112 non-null int64\n",
      "f_ip_chlam      3956112 non-null int64\n",
      "f_ip_hepatb     3956112 non-null int64\n",
      "f_ip_hepatc     3956112 non-null int64\n",
      "no_infec        3956112 non-null int64\n",
      "ob_ecvs         3956112 non-null object\n",
      "ob_ecvf         3956112 non-null object\n",
      "f_ob_succ       3956112 non-null int64\n",
      "f_ob_fail       3956112 non-null int64\n",
      "ld_indl         3956112 non-null object\n",
      "ld_augm         3956112 non-null object\n",
      "ld_ster         3956112 non-null object\n",
      "ld_antb         3956112 non-null object\n",
      "ld_chor         3956112 non-null object\n",
      "ld_anes         3956112 non-null object\n",
      "f_ld_indl       3956112 non-null int64\n",
      "f_ld_augm       3956112 non-null int64\n",
      "f_ld_ster       3956112 non-null int64\n",
      "f_ld_antb       3956112 non-null int64\n",
      "f_ld_chor       3956112 non-null int64\n",
      "f_ld_anes       3956112 non-null int64\n",
      "no_lbrdlv       3956112 non-null int64\n",
      "me_pres         3956112 non-null int64\n",
      "me_rout         3956112 non-null int64\n",
      "me_trial        3956112 non-null object\n",
      "f_me_pres       3956112 non-null int64\n",
      "f_me_rout       3956112 non-null int64\n",
      "f_me_trial      3956112 non-null int64\n",
      "rdmeth_rec      3956112 non-null int64\n",
      "dmeth_rec       3956112 non-null int64\n",
      "f_dmeth_rec     3956112 non-null int64\n",
      "mm_mtr          3956112 non-null object\n",
      "mm_plac         3956112 non-null object\n",
      "mm_rupt         3956112 non-null object\n",
      "mm_uhyst        3956112 non-null object\n",
      "mm_aicu         3956112 non-null object\n",
      "f_mm_mtr        3956112 non-null int64\n",
      "f_mm_           3956112 non-null int64\n",
      "f_mm_rupt       3956112 non-null int64\n",
      "f_mm_uhyst      3956112 non-null int64\n",
      "f_mm_aicu       3956112 non-null int64\n",
      "no_mmorb        3956112 non-null int64\n",
      "attend          3956112 non-null int64\n",
      "mtran           3956112 non-null object\n",
      "pay             3956112 non-null int64\n",
      "pay_rec         3956112 non-null int64\n",
      "f_pay           3956112 non-null int64\n",
      "f_pay_rec       3956112 non-null int64\n",
      "apgar5          3956112 non-null int64\n",
      "apgar5r         3956112 non-null int64\n",
      "f_apgar5        3956112 non-null int64\n",
      "apgar10         3956112 non-null int64\n",
      "apgar10r        3956112 non-null int64\n",
      "dplural         3956112 non-null int64\n",
      "imp_plur        269 non-null float64\n",
      "setorder_r      3956112 non-null int64\n",
      "sex             3956112 non-null object\n",
      "imp_sex         78 non-null float64\n",
      "dlmp_mm         3956112 non-null int64\n",
      "dlmp_yy         3956112 non-null int64\n",
      "compgst_imp     79726 non-null float64\n",
      "obgest_flg      220171 non-null float64\n",
      "combgest        3956112 non-null int64\n",
      "gestrec10       3956112 non-null int64\n",
      "gestrec3        3956112 non-null int64\n",
      "lmpused         0 non-null float64\n",
      "oegest_comb     3956112 non-null int64\n",
      "oegest_r10      3956112 non-null int64\n",
      "oegest_r3       3956112 non-null int64\n",
      "dbwt            3956112 non-null int64\n",
      "bwtr12          3956112 non-null int64\n",
      "bwtr4           3956112 non-null int64\n",
      "ab_aven1        3956112 non-null object\n",
      "ab_aven6        3956112 non-null object\n",
      "ab_nicu         3956112 non-null object\n",
      "ab_surf         3956112 non-null object\n",
      "ab_anti         3956112 non-null object\n",
      "ab_seiz         3956112 non-null object\n",
      "f_ab_vent       3956112 non-null int64\n",
      "f_ab_vent6      3956112 non-null int64\n",
      "f_ab_nicu       3956112 non-null int64\n",
      "f_ab_surfac     3956112 non-null int64\n",
      "f_ab_antibio    3956112 non-null int64\n",
      "f_ab_seiz       3956112 non-null int64\n",
      "no_abnorm       3956112 non-null int64\n",
      "ca_anen         3956112 non-null object\n",
      "ca_mnsb         3956112 non-null object\n",
      "ca_cchd         3956112 non-null object\n",
      "ca_cdh          3956112 non-null object\n",
      "ca_omph         3956112 non-null object\n",
      "ca_gast         3956112 non-null object\n",
      "f_ca_anen       3956112 non-null int64\n",
      "f_ca_menin      3956112 non-null int64\n",
      "f_ca_heart      3956112 non-null int64\n",
      "f_ca_hernia     3956112 non-null int64\n",
      "f_ca_ompha      3956112 non-null int64\n",
      "f_ca_gastro     3956112 non-null int64\n",
      "ca_limb         3956112 non-null object\n",
      "ca_cleft        3956112 non-null object\n",
      "ca_clpal        3956112 non-null object\n",
      "ca_downs        3956112 non-null object\n",
      "ca_disor        3956112 non-null object\n",
      "ca_hypo         3956112 non-null object\n",
      "f_ca_limb       3956112 non-null int64\n",
      "f_ca_cleftlp    3956112 non-null int64\n",
      "f_ca_cleft      3956112 non-null int64\n",
      "f_ca_downs      3956112 non-null int64\n",
      "f_ca_chrom      3956112 non-null int64\n",
      "f_ca_hypos      3956112 non-null int64\n",
      "no_congen       3956112 non-null int64\n",
      "itran           3956112 non-null object\n",
      "ilive           3956112 non-null object\n",
      "bfed            3956112 non-null object\n",
      "f_bfed          3956112 non-null int64\n",
      "ubfacil         0 non-null float64\n",
      "urf_diab        0 non-null float64\n",
      "urf_chyper      0 non-null float64\n",
      "urf_phyper      0 non-null float64\n",
      "urf_eclam       0 non-null float64\n",
      "ume_forcep      0 non-null float64\n",
      "ume_vac         0 non-null float64\n",
      "uop_induc       0 non-null float64\n",
      "uld_breech      0 non-null float64\n",
      "uca_anen        0 non-null float64\n",
      "uca_spina       0 non-null float64\n",
      "uca_ompha       0 non-null float64\n",
      "uca_cleftlp     0 non-null float64\n",
      "uca_hernia      0 non-null float64\n",
      "uca_downs       0 non-null float64\n",
      "dtypes: float64(26), int64(159), object(55)\n",
      "memory usage: 7.1+ GB\n"
     ]
    }
   ],
   "source": [
    "natality_df.info(True, null_counts=True)"
   ]
  },
  {
   "cell_type": "code",
   "execution_count": 5,
   "metadata": {},
   "outputs": [
    {
     "data": {
      "text/html": [
       "<div>\n",
       "<style>\n",
       "    .dataframe thead tr:only-child th {\n",
       "        text-align: right;\n",
       "    }\n",
       "\n",
       "    .dataframe thead th {\n",
       "        text-align: left;\n",
       "    }\n",
       "\n",
       "    .dataframe tbody tr th {\n",
       "        vertical-align: top;\n",
       "    }\n",
       "</style>\n",
       "<table border=\"1\" class=\"dataframe\">\n",
       "  <thead>\n",
       "    <tr style=\"text-align: right;\">\n",
       "      <th></th>\n",
       "      <th>dob_yy</th>\n",
       "      <th>dob_mm</th>\n",
       "      <th>dob_tt</th>\n",
       "      <th>dob_wk</th>\n",
       "      <th>bfacil</th>\n",
       "      <th>f_facility</th>\n",
       "      <th>bfacil3</th>\n",
       "      <th>mage_impflg</th>\n",
       "      <th>mage_repflg</th>\n",
       "      <th>mager</th>\n",
       "      <th>...</th>\n",
       "      <th>ume_forcep</th>\n",
       "      <th>ume_vac</th>\n",
       "      <th>uop_induc</th>\n",
       "      <th>uld_breech</th>\n",
       "      <th>uca_anen</th>\n",
       "      <th>uca_spina</th>\n",
       "      <th>uca_ompha</th>\n",
       "      <th>uca_cleftlp</th>\n",
       "      <th>uca_hernia</th>\n",
       "      <th>uca_downs</th>\n",
       "    </tr>\n",
       "  </thead>\n",
       "  <tbody>\n",
       "    <tr>\n",
       "      <th>0</th>\n",
       "      <td>2016</td>\n",
       "      <td>1</td>\n",
       "      <td>2129</td>\n",
       "      <td>6</td>\n",
       "      <td>1</td>\n",
       "      <td>1</td>\n",
       "      <td>1</td>\n",
       "      <td>NaN</td>\n",
       "      <td>NaN</td>\n",
       "      <td>35</td>\n",
       "      <td>...</td>\n",
       "      <td>NaN</td>\n",
       "      <td>NaN</td>\n",
       "      <td>NaN</td>\n",
       "      <td>NaN</td>\n",
       "      <td>NaN</td>\n",
       "      <td>NaN</td>\n",
       "      <td>NaN</td>\n",
       "      <td>NaN</td>\n",
       "      <td>NaN</td>\n",
       "      <td>NaN</td>\n",
       "    </tr>\n",
       "    <tr>\n",
       "      <th>1</th>\n",
       "      <td>2016</td>\n",
       "      <td>1</td>\n",
       "      <td>2129</td>\n",
       "      <td>6</td>\n",
       "      <td>1</td>\n",
       "      <td>1</td>\n",
       "      <td>1</td>\n",
       "      <td>NaN</td>\n",
       "      <td>NaN</td>\n",
       "      <td>32</td>\n",
       "      <td>...</td>\n",
       "      <td>NaN</td>\n",
       "      <td>NaN</td>\n",
       "      <td>NaN</td>\n",
       "      <td>NaN</td>\n",
       "      <td>NaN</td>\n",
       "      <td>NaN</td>\n",
       "      <td>NaN</td>\n",
       "      <td>NaN</td>\n",
       "      <td>NaN</td>\n",
       "      <td>NaN</td>\n",
       "    </tr>\n",
       "    <tr>\n",
       "      <th>2</th>\n",
       "      <td>2016</td>\n",
       "      <td>1</td>\n",
       "      <td>1956</td>\n",
       "      <td>6</td>\n",
       "      <td>1</td>\n",
       "      <td>1</td>\n",
       "      <td>1</td>\n",
       "      <td>NaN</td>\n",
       "      <td>NaN</td>\n",
       "      <td>18</td>\n",
       "      <td>...</td>\n",
       "      <td>NaN</td>\n",
       "      <td>NaN</td>\n",
       "      <td>NaN</td>\n",
       "      <td>NaN</td>\n",
       "      <td>NaN</td>\n",
       "      <td>NaN</td>\n",
       "      <td>NaN</td>\n",
       "      <td>NaN</td>\n",
       "      <td>NaN</td>\n",
       "      <td>NaN</td>\n",
       "    </tr>\n",
       "    <tr>\n",
       "      <th>3</th>\n",
       "      <td>2016</td>\n",
       "      <td>1</td>\n",
       "      <td>2247</td>\n",
       "      <td>6</td>\n",
       "      <td>1</td>\n",
       "      <td>1</td>\n",
       "      <td>1</td>\n",
       "      <td>NaN</td>\n",
       "      <td>NaN</td>\n",
       "      <td>34</td>\n",
       "      <td>...</td>\n",
       "      <td>NaN</td>\n",
       "      <td>NaN</td>\n",
       "      <td>NaN</td>\n",
       "      <td>NaN</td>\n",
       "      <td>NaN</td>\n",
       "      <td>NaN</td>\n",
       "      <td>NaN</td>\n",
       "      <td>NaN</td>\n",
       "      <td>NaN</td>\n",
       "      <td>NaN</td>\n",
       "    </tr>\n",
       "    <tr>\n",
       "      <th>4</th>\n",
       "      <td>2016</td>\n",
       "      <td>1</td>\n",
       "      <td>1702</td>\n",
       "      <td>7</td>\n",
       "      <td>1</td>\n",
       "      <td>1</td>\n",
       "      <td>1</td>\n",
       "      <td>NaN</td>\n",
       "      <td>NaN</td>\n",
       "      <td>31</td>\n",
       "      <td>...</td>\n",
       "      <td>NaN</td>\n",
       "      <td>NaN</td>\n",
       "      <td>NaN</td>\n",
       "      <td>NaN</td>\n",
       "      <td>NaN</td>\n",
       "      <td>NaN</td>\n",
       "      <td>NaN</td>\n",
       "      <td>NaN</td>\n",
       "      <td>NaN</td>\n",
       "      <td>NaN</td>\n",
       "    </tr>\n",
       "  </tbody>\n",
       "</table>\n",
       "<p>5 rows × 240 columns</p>\n",
       "</div>"
      ],
      "text/plain": [
       "   dob_yy  dob_mm  dob_tt  dob_wk  bfacil  f_facility  bfacil3  mage_impflg  \\\n",
       "0    2016       1    2129       6       1           1        1          NaN   \n",
       "1    2016       1    2129       6       1           1        1          NaN   \n",
       "2    2016       1    1956       6       1           1        1          NaN   \n",
       "3    2016       1    2247       6       1           1        1          NaN   \n",
       "4    2016       1    1702       7       1           1        1          NaN   \n",
       "\n",
       "   mage_repflg  mager    ...      ume_forcep  ume_vac  uop_induc  uld_breech  \\\n",
       "0          NaN     35    ...             NaN      NaN        NaN         NaN   \n",
       "1          NaN     32    ...             NaN      NaN        NaN         NaN   \n",
       "2          NaN     18    ...             NaN      NaN        NaN         NaN   \n",
       "3          NaN     34    ...             NaN      NaN        NaN         NaN   \n",
       "4          NaN     31    ...             NaN      NaN        NaN         NaN   \n",
       "\n",
       "   uca_anen  uca_spina  uca_ompha  uca_cleftlp  uca_hernia  uca_downs  \n",
       "0       NaN        NaN        NaN          NaN         NaN        NaN  \n",
       "1       NaN        NaN        NaN          NaN         NaN        NaN  \n",
       "2       NaN        NaN        NaN          NaN         NaN        NaN  \n",
       "3       NaN        NaN        NaN          NaN         NaN        NaN  \n",
       "4       NaN        NaN        NaN          NaN         NaN        NaN  \n",
       "\n",
       "[5 rows x 240 columns]"
      ]
     },
     "execution_count": 5,
     "metadata": {},
     "output_type": "execute_result"
    }
   ],
   "source": [
    "natality_df.head()"
   ]
  },
  {
   "cell_type": "code",
   "execution_count": 9,
   "metadata": {
    "collapsed": true
   },
   "outputs": [],
   "source": [
    "natality_df.to_pickle('natl2016.pickle')"
   ]
  },
  {
   "cell_type": "code",
   "execution_count": null,
   "metadata": {
    "collapsed": true
   },
   "outputs": [],
   "source": [
    "df_natality = pd.read_pickle('natl2016.pickle')"
   ]
  },
  {
   "cell_type": "markdown",
   "metadata": {
    "collapsed": true
   },
   "source": [
    "### Check outcome flags "
   ]
  },
  {
   "cell_type": "code",
   "execution_count": 4,
   "metadata": {},
   "outputs": [
    {
     "name": "stdout",
     "output_type": "stream",
     "text": [
      "<class 'pandas.core.frame.DataFrame'>\n",
      "RangeIndex: 3956112 entries, 0 to 3956111\n",
      "Data columns (total 240 columns):\n",
      "dob_yy          3956112 non-null int64\n",
      "dob_mm          3956112 non-null int64\n",
      "dob_tt          3956112 non-null int64\n",
      "dob_wk          3956112 non-null int64\n",
      "bfacil          3956112 non-null int64\n",
      "f_facility      3956112 non-null int64\n",
      "bfacil3         3956112 non-null int64\n",
      "mage_impflg     405 non-null float64\n",
      "mage_repflg     167 non-null float64\n",
      "mager           3956112 non-null int64\n",
      "mager14         3956112 non-null int64\n",
      "mager9          3956112 non-null int64\n",
      "mbstate_rec     3956112 non-null int64\n",
      "restatus        3956112 non-null int64\n",
      "mrace31         3956112 non-null int64\n",
      "mrace6          3956112 non-null int64\n",
      "mrace15         3956112 non-null int64\n",
      "mbrace          3956112 non-null int64\n",
      "mraceimp        239921 non-null float64\n",
      "mhisp_r         3956112 non-null int64\n",
      "f_mhisp         3956112 non-null int64\n",
      "mracehisp       3956112 non-null int64\n",
      "mar_p           3956112 non-null object\n",
      "dmar            3956112 non-null int64\n",
      "mar_imp         2048 non-null float64\n",
      "f_mar_p         3956112 non-null int64\n",
      "meduc           3956112 non-null int64\n",
      "f_meduc         3956112 non-null int64\n",
      "fagerpt_flg     5334 non-null float64\n",
      "fagecomb        3956112 non-null int64\n",
      "fagerec11       3956112 non-null int64\n",
      "frace31         3956112 non-null int64\n",
      "frace6          3956112 non-null int64\n",
      "frace15         3956112 non-null int64\n",
      "fbrace          3956112 non-null int64\n",
      "fhisp_r         3956112 non-null int64\n",
      "f_fhisp         3956112 non-null int64\n",
      "fracehisp       3956112 non-null int64\n",
      "feduc           3956112 non-null int64\n",
      "priorlive       3956112 non-null int64\n",
      "priordead       3956112 non-null int64\n",
      "priorterm       3956112 non-null int64\n",
      "lbo_rec         3956112 non-null int64\n",
      "tbo_rec         3956112 non-null int64\n",
      "illb_r          3956112 non-null int64\n",
      "illb_r11        3956112 non-null int64\n",
      "ilop_r          3956112 non-null int64\n",
      "ilop_r11        3956112 non-null int64\n",
      "ilp_r           3956112 non-null int64\n",
      "ilp_r11         3956112 non-null int64\n",
      "precare         3956112 non-null int64\n",
      "f_mpcb          3956112 non-null int64\n",
      "precare5        3956112 non-null int64\n",
      "previs          3956112 non-null int64\n",
      "previs_rec      3956112 non-null int64\n",
      "f_tpcv          3956112 non-null int64\n",
      "wic             3956112 non-null object\n",
      "f_wic           3956112 non-null int64\n",
      "cig_0           3956112 non-null int64\n",
      "cig_1           3956112 non-null int64\n",
      "cig_2           3956112 non-null int64\n",
      "cig_3           3956112 non-null int64\n",
      "cig0_r          3956112 non-null int64\n",
      "cig1_r          3956112 non-null int64\n",
      "cig2_r          3956112 non-null int64\n",
      "cig3_r          3956112 non-null int64\n",
      "f_cigs_0        3956112 non-null int64\n",
      "f_cigs_1        3956112 non-null int64\n",
      "f_cigs_2        3956112 non-null int64\n",
      "f_cigs_3        3956112 non-null int64\n",
      "cig_rec         3956112 non-null object\n",
      "f_tobaco        3956112 non-null int64\n",
      "m_ht_in         3956112 non-null int64\n",
      "f_m_ht          3956112 non-null int64\n",
      "bmi             3956112 non-null float64\n",
      "bmi_r           3956112 non-null int64\n",
      "pwgt_r          3956112 non-null int64\n",
      "f_pwgt          3956112 non-null int64\n",
      "dwgt_r          3956112 non-null int64\n",
      "f_dwgt          3956112 non-null int64\n",
      "wtgain          3956112 non-null int64\n",
      "wtgain_rec      3956112 non-null int64\n",
      "f_wtgain        3956112 non-null int64\n",
      "rf_pdiab        3956112 non-null object\n",
      "rf_gdiab        3956112 non-null object\n",
      "rf_phype        3956112 non-null object\n",
      "rf_ghype        3956112 non-null object\n",
      "rf_ehype        3956112 non-null object\n",
      "rf_ppterm       3956112 non-null object\n",
      "f_rf_pdiab      3956112 non-null int64\n",
      "f_rf_gdiab      3956112 non-null int64\n",
      "f_rf_phyper     3956112 non-null int64\n",
      "f_rf_ghyper     3956112 non-null int64\n",
      "f_rf_eclamp     3956112 non-null int64\n",
      "f_rf_ppb        3956112 non-null int64\n",
      "rf_inftr        3956112 non-null object\n",
      "rf_fedrg        3956112 non-null object\n",
      "rf_artec        3956112 non-null object\n",
      "f_rf_inf_drg    3956112 non-null int64\n",
      "f_rf_inf_art    3956112 non-null int64\n",
      "rf_cesar        3956112 non-null object\n",
      "rf_cesarn       3956112 non-null int64\n",
      "f_rf_cesar      3956112 non-null int64\n",
      "f_rf_ncesar     3956112 non-null int64\n",
      "no_risks        3956112 non-null int64\n",
      "ip_gon          3956112 non-null object\n",
      "ip_syph         3956112 non-null object\n",
      "ip_chlam        3956112 non-null object\n",
      "ip_hepatb       3956112 non-null object\n",
      "ip_hepatc       3956112 non-null object\n",
      "f_ip_gonor      3956112 non-null int64\n",
      "f_ip_syph       3956112 non-null int64\n",
      "f_ip_chlam      3956112 non-null int64\n",
      "f_ip_hepatb     3956112 non-null int64\n",
      "f_ip_hepatc     3956112 non-null int64\n",
      "no_infec        3956112 non-null int64\n",
      "ob_ecvs         3956112 non-null object\n",
      "ob_ecvf         3956112 non-null object\n",
      "f_ob_succ       3956112 non-null int64\n",
      "f_ob_fail       3956112 non-null int64\n",
      "ld_indl         3956112 non-null object\n",
      "ld_augm         3956112 non-null object\n",
      "ld_ster         3956112 non-null object\n",
      "ld_antb         3956112 non-null object\n",
      "ld_chor         3956112 non-null object\n",
      "ld_anes         3956112 non-null object\n",
      "f_ld_indl       3956112 non-null int64\n",
      "f_ld_augm       3956112 non-null int64\n",
      "f_ld_ster       3956112 non-null int64\n",
      "f_ld_antb       3956112 non-null int64\n",
      "f_ld_chor       3956112 non-null int64\n",
      "f_ld_anes       3956112 non-null int64\n",
      "no_lbrdlv       3956112 non-null int64\n",
      "me_pres         3956112 non-null int64\n",
      "me_rout         3956112 non-null int64\n",
      "me_trial        3956112 non-null object\n",
      "f_me_pres       3956112 non-null int64\n",
      "f_me_rout       3956112 non-null int64\n",
      "f_me_trial      3956112 non-null int64\n",
      "rdmeth_rec      3956112 non-null int64\n",
      "dmeth_rec       3956112 non-null int64\n",
      "f_dmeth_rec     3956112 non-null int64\n",
      "mm_mtr          3956112 non-null object\n",
      "mm_plac         3956112 non-null object\n",
      "mm_rupt         3956112 non-null object\n",
      "mm_uhyst        3956112 non-null object\n",
      "mm_aicu         3956112 non-null object\n",
      "f_mm_mtr        3956112 non-null int64\n",
      "f_mm_           3956112 non-null int64\n",
      "f_mm_rupt       3956112 non-null int64\n",
      "f_mm_uhyst      3956112 non-null int64\n",
      "f_mm_aicu       3956112 non-null int64\n",
      "no_mmorb        3956112 non-null int64\n",
      "attend          3956112 non-null int64\n",
      "mtran           3956112 non-null object\n",
      "pay             3956112 non-null int64\n",
      "pay_rec         3956112 non-null int64\n",
      "f_pay           3956112 non-null int64\n",
      "f_pay_rec       3956112 non-null int64\n",
      "apgar5          3956112 non-null int64\n",
      "apgar5r         3956112 non-null int64\n",
      "f_apgar5        3956112 non-null int64\n",
      "apgar10         3956112 non-null int64\n",
      "apgar10r        3956112 non-null int64\n",
      "dplural         3956112 non-null int64\n",
      "imp_plur        269 non-null float64\n",
      "setorder_r      3956112 non-null int64\n",
      "sex             3956112 non-null object\n",
      "imp_sex         78 non-null float64\n",
      "dlmp_mm         3956112 non-null int64\n",
      "dlmp_yy         3956112 non-null int64\n",
      "compgst_imp     79726 non-null float64\n",
      "obgest_flg      220171 non-null float64\n",
      "combgest        3956112 non-null int64\n",
      "gestrec10       3956112 non-null int64\n",
      "gestrec3        3956112 non-null int64\n",
      "lmpused         0 non-null float64\n",
      "oegest_comb     3956112 non-null int64\n",
      "oegest_r10      3956112 non-null int64\n",
      "oegest_r3       3956112 non-null int64\n",
      "dbwt            3956112 non-null int64\n",
      "bwtr12          3956112 non-null int64\n",
      "bwtr4           3956112 non-null int64\n",
      "ab_aven1        3956112 non-null object\n",
      "ab_aven6        3956112 non-null object\n",
      "ab_nicu         3956112 non-null object\n",
      "ab_surf         3956112 non-null object\n",
      "ab_anti         3956112 non-null object\n",
      "ab_seiz         3956112 non-null object\n",
      "f_ab_vent       3956112 non-null int64\n",
      "f_ab_vent6      3956112 non-null int64\n",
      "f_ab_nicu       3956112 non-null int64\n",
      "f_ab_surfac     3956112 non-null int64\n",
      "f_ab_antibio    3956112 non-null int64\n",
      "f_ab_seiz       3956112 non-null int64\n",
      "no_abnorm       3956112 non-null int64\n",
      "ca_anen         3956112 non-null object\n",
      "ca_mnsb         3956112 non-null object\n",
      "ca_cchd         3956112 non-null object\n",
      "ca_cdh          3956112 non-null object\n",
      "ca_omph         3956112 non-null object\n",
      "ca_gast         3956112 non-null object\n",
      "f_ca_anen       3956112 non-null int64\n",
      "f_ca_menin      3956112 non-null int64\n",
      "f_ca_heart      3956112 non-null int64\n",
      "f_ca_hernia     3956112 non-null int64\n",
      "f_ca_ompha      3956112 non-null int64\n",
      "f_ca_gastro     3956112 non-null int64\n",
      "ca_limb         3956112 non-null object\n",
      "ca_cleft        3956112 non-null object\n",
      "ca_clpal        3956112 non-null object\n",
      "ca_downs        3956112 non-null object\n",
      "ca_disor        3956112 non-null object\n",
      "ca_hypo         3956112 non-null object\n",
      "f_ca_limb       3956112 non-null int64\n",
      "f_ca_cleftlp    3956112 non-null int64\n",
      "f_ca_cleft      3956112 non-null int64\n",
      "f_ca_downs      3956112 non-null int64\n",
      "f_ca_chrom      3956112 non-null int64\n",
      "f_ca_hypos      3956112 non-null int64\n",
      "no_congen       3956112 non-null int64\n",
      "itran           3956112 non-null object\n",
      "ilive           3956112 non-null object\n",
      "bfed            3956112 non-null object\n",
      "f_bfed          3956112 non-null int64\n",
      "ubfacil         0 non-null float64\n",
      "urf_diab        0 non-null float64\n",
      "urf_chyper      0 non-null float64\n",
      "urf_phyper      0 non-null float64\n",
      "urf_eclam       0 non-null float64\n",
      "ume_forcep      0 non-null float64\n",
      "ume_vac         0 non-null float64\n",
      "uop_induc       0 non-null float64\n",
      "uld_breech      0 non-null float64\n",
      "uca_anen        0 non-null float64\n",
      "uca_spina       0 non-null float64\n",
      "uca_ompha       0 non-null float64\n",
      "uca_cleftlp     0 non-null float64\n",
      "uca_hernia      0 non-null float64\n",
      "uca_downs       0 non-null float64\n",
      "dtypes: float64(26), int64(159), object(55)\n",
      "memory usage: 7.1+ GB\n"
     ]
    }
   ],
   "source": [
    "df_natality.info(True, null_counts = True)"
   ]
  },
  {
   "cell_type": "code",
   "execution_count": 10,
   "metadata": {},
   "outputs": [
    {
     "ename": "NameError",
     "evalue": "name 'missing_outcome_mask' is not defined",
     "output_type": "error",
     "traceback": [
      "\u001b[0;31m---------------------------------------------------------------------------\u001b[0m",
      "\u001b[0;31mNameError\u001b[0m                                 Traceback (most recent call last)",
      "\u001b[0;32m<ipython-input-10-afc9acf01e36>\u001b[0m in \u001b[0;36m<module>\u001b[0;34m()\u001b[0m\n\u001b[0;32m----> 1\u001b[0;31m \u001b[0mdf_natality\u001b[0m\u001b[0;34m[\u001b[0m\u001b[0mmissing_outcome_mask\u001b[0m\u001b[0;34m]\u001b[0m\u001b[0;34m.\u001b[0m\u001b[0mcount\u001b[0m\u001b[0;34m(\u001b[0m\u001b[0;34m)\u001b[0m\u001b[0;34m\u001b[0m\u001b[0m\n\u001b[0m",
      "\u001b[0;31mNameError\u001b[0m: name 'missing_outcome_mask' is not defined"
     ]
    }
   ],
   "source": [
    "df_natality[missing_outcome_mask].count()"
   ]
  },
  {
   "cell_type": "code",
   "execution_count": 4,
   "metadata": {},
   "outputs": [
    {
     "ename": "NameError",
     "evalue": "name 'df_natality' is not defined",
     "output_type": "error",
     "traceback": [
      "\u001b[0;31m---------------------------------------------------------------------------\u001b[0m",
      "\u001b[0;31mNameError\u001b[0m                                 Traceback (most recent call last)",
      "\u001b[0;32m<ipython-input-4-a6e75ca5a068>\u001b[0m in \u001b[0;36m<module>\u001b[0;34m()\u001b[0m\n\u001b[0;32m----> 1\u001b[0;31m \u001b[0mmissing_outcome_mask\u001b[0m \u001b[0;34m=\u001b[0m \u001b[0;34m(\u001b[0m\u001b[0;34m(\u001b[0m\u001b[0mdf_natality\u001b[0m\u001b[0;34m.\u001b[0m\u001b[0mf_ld_indl\u001b[0m \u001b[0;34m==\u001b[0m \u001b[0;36m0\u001b[0m\u001b[0;34m)\u001b[0m \u001b[0;34m&\u001b[0m \u001b[0;34m(\u001b[0m\u001b[0mdf_natality\u001b[0m\u001b[0;34m.\u001b[0m\u001b[0mf_ob_fail\u001b[0m \u001b[0;34m==\u001b[0m \u001b[0;36m0\u001b[0m\u001b[0;34m)\u001b[0m\u001b[0;34m&\u001b[0m\u001b[0;34m(\u001b[0m\u001b[0mdf_natality\u001b[0m\u001b[0;34m.\u001b[0m\u001b[0mf_ld_augm\u001b[0m \u001b[0;34m==\u001b[0m \u001b[0;36m0\u001b[0m\u001b[0;34m)\u001b[0m\u001b[0;34m&\u001b[0m\u001b[0;34m(\u001b[0m\u001b[0mdf_natality\u001b[0m\u001b[0;34m.\u001b[0m\u001b[0mf_ld_chor\u001b[0m \u001b[0;34m==\u001b[0m \u001b[0;36m0\u001b[0m\u001b[0;34m)\u001b[0m\u001b[0;34m&\u001b[0m\u001b[0;34m(\u001b[0m\u001b[0mdf_natality\u001b[0m\u001b[0;34m.\u001b[0m\u001b[0mf_me_pres\u001b[0m \u001b[0;34m==\u001b[0m \u001b[0;36m0\u001b[0m\u001b[0;34m)\u001b[0m\u001b[0;34m&\u001b[0m\u001b[0;34m(\u001b[0m\u001b[0mdf_natality\u001b[0m\u001b[0;34m.\u001b[0m\u001b[0mf_me_rout\u001b[0m \u001b[0;34m==\u001b[0m \u001b[0;36m0\u001b[0m\u001b[0;34m)\u001b[0m\u001b[0;34m&\u001b[0m\u001b[0;34m(\u001b[0m\u001b[0mdf_natality\u001b[0m\u001b[0;34m.\u001b[0m\u001b[0mf_me_trial\u001b[0m \u001b[0;34m==\u001b[0m \u001b[0;36m0\u001b[0m\u001b[0;34m)\u001b[0m\u001b[0;34m&\u001b[0m\u001b[0;34m(\u001b[0m\u001b[0mdf_natality\u001b[0m\u001b[0;34m.\u001b[0m\u001b[0mf_dmeth_rec\u001b[0m \u001b[0;34m==\u001b[0m \u001b[0;36m0\u001b[0m\u001b[0;34m)\u001b[0m\u001b[0;34m&\u001b[0m\u001b[0;34m(\u001b[0m\u001b[0mdf_natality\u001b[0m\u001b[0;34m.\u001b[0m\u001b[0mf_mm_rupt\u001b[0m \u001b[0;34m==\u001b[0m \u001b[0;36m0\u001b[0m\u001b[0;34m)\u001b[0m\u001b[0;34m&\u001b[0m\u001b[0;34m(\u001b[0m\u001b[0mdf_natality\u001b[0m\u001b[0;34m.\u001b[0m\u001b[0mf_mm_uhyst\u001b[0m \u001b[0;34m==\u001b[0m \u001b[0;36m0\u001b[0m\u001b[0;34m)\u001b[0m\u001b[0;34m&\u001b[0m\u001b[0;34m(\u001b[0m\u001b[0mdf_natality\u001b[0m\u001b[0;34m.\u001b[0m\u001b[0mf_mm_aicu\u001b[0m \u001b[0;34m==\u001b[0m \u001b[0;36m0\u001b[0m\u001b[0;34m)\u001b[0m\u001b[0;34m&\u001b[0m\u001b[0;34m(\u001b[0m\u001b[0mdf_natality\u001b[0m\u001b[0;34m.\u001b[0m\u001b[0mf_apgar5\u001b[0m \u001b[0;34m==\u001b[0m \u001b[0;36m0\u001b[0m\u001b[0;34m)\u001b[0m\u001b[0;34m&\u001b[0m \u001b[0;34m(\u001b[0m\u001b[0mdf_natality\u001b[0m\u001b[0;34m.\u001b[0m\u001b[0mf_ab_vent\u001b[0m \u001b[0;34m==\u001b[0m \u001b[0;36m0\u001b[0m\u001b[0;34m)\u001b[0m\u001b[0;34m&\u001b[0m\u001b[0;34m(\u001b[0m\u001b[0mdf_natality\u001b[0m\u001b[0;34m.\u001b[0m\u001b[0mf_ab_vent6\u001b[0m \u001b[0;34m==\u001b[0m \u001b[0;36m0\u001b[0m\u001b[0;34m)\u001b[0m\u001b[0;34m&\u001b[0m\u001b[0;34m(\u001b[0m\u001b[0mdf_natality\u001b[0m\u001b[0;34m.\u001b[0m\u001b[0mf_ab_nicu\u001b[0m \u001b[0;34m==\u001b[0m \u001b[0;36m0\u001b[0m\u001b[0;34m)\u001b[0m\u001b[0;34m&\u001b[0m\u001b[0;34m(\u001b[0m\u001b[0mdf_natality\u001b[0m\u001b[0;34m.\u001b[0m\u001b[0mf_ab_surfac\u001b[0m \u001b[0;34m==\u001b[0m \u001b[0;36m0\u001b[0m\u001b[0;34m)\u001b[0m\u001b[0;34m&\u001b[0m\u001b[0;34m(\u001b[0m\u001b[0mdf_natality\u001b[0m\u001b[0;34m.\u001b[0m\u001b[0mf_ab_antibio\u001b[0m \u001b[0;34m==\u001b[0m \u001b[0;36m0\u001b[0m\u001b[0;34m)\u001b[0m\u001b[0;34m&\u001b[0m\u001b[0;34m(\u001b[0m\u001b[0mdf_natality\u001b[0m\u001b[0;34m.\u001b[0m\u001b[0mf_ab_seiz\u001b[0m \u001b[0;34m==\u001b[0m \u001b[0;36m0\u001b[0m\u001b[0;34m)\u001b[0m\u001b[0;34m)\u001b[0m\u001b[0;34m\u001b[0m\u001b[0m\n\u001b[0m",
      "\u001b[0;31mNameError\u001b[0m: name 'df_natality' is not defined"
     ]
    }
   ],
   "source": [
    "missing_outcome_mask = ((df_natality.f_ld_indl == 0) & (df_natality.f_ob_fail == 0)&\n",
    "                        (df_natality.f_ld_augm == 0)&(df_natality.f_ld_chor == 0)&\n",
    "                        (df_natality.f_me_pres == 0)&(df_natality.f_me_rout == 0)&\n",
    "                        (df_natality.f_me_trial == 0)&(df_natality.f_dmeth_rec == 0)&\n",
    "                        (df_natality.f_mm_rupt == 0)&(df_natality.f_mm_uhyst == 0)&\n",
    "                        (df_natality.f_mm_aicu == 0)&(df_natality.f_apgar5 == 0)& \n",
    "                        (df_natality.f_ab_vent == 0)&(df_natality.f_ab_vent6 == 0)&\n",
    "                        (df_natality.f_ab_nicu == 0)&(df_natality.f_ab_surfac == 0)&\n",
    "                        (df_natality.f_ab_antibio == 0)&(df_natality.f_ab_seiz == 0))"
   ]
  },
  {
   "cell_type": "markdown",
   "metadata": {},
   "source": [
    "### Create pruned dataset"
   ]
  },
  {
   "cell_type": "code",
   "execution_count": 3,
   "metadata": {
    "collapsed": true
   },
   "outputs": [],
   "source": [
    "df_pruned = df_natality[['dob_mm', 'dob_tt', 'dob_wk', 'bfacil', 'bfacil3', 'mager', 'mager14', 'mager9', 'mbstate_rec', 'restatus', 'mrace31', 'mrace6', 'mrace15', 'mbrace', 'mhisp_r', 'mracehisp', 'mar_p', 'dmar', 'meduc', 'fagecomb', 'fagerec11', 'frace31', 'frace6', 'frace15', 'fbrace', 'fhisp_r', 'fracehisp', 'feduc', 'priorlive', 'priordead', 'priorterm', 'lbo_rec', 'tbo_rec', 'illb_r', 'illb_r11', 'precare', 'precare5', 'previs', 'previs_rec', 'wic', 'cig_0', 'cig_1', 'cig_2', 'cig_3', 'cig0_r', 'cig1_r', 'cig2_r', 'cig3_r', 'cig_rec', 'm_ht_in', 'bmi', 'bmi_r', 'pwgt_r', 'wtgain', 'wtgain_rec', 'dwgt_r', 'rf_pdiab', 'rf_gdiab', 'rf_phype','rf_ghype', 'rf_ehype', 'rf_ppterm', 'rf_inftr', 'rf_fedrg', 'rf_artec', 'rf_cesar', 'rf_cesarn', 'no_risks', 'ip_gon', 'ip_syph', 'ip_chlam', 'ip_hepatb', 'ip_hepatc', 'no_infec', 'pay_rec', 'dplural', 'sex', 'dlmp_yy', 'combgest', 'gestrec10', 'gestrec3', 'oegest_comb', 'oegest_r10', 'oegest_r3', 'ob_ecvf', 'ld_indl', 'ld_augm', 'ld_chor', 'me_pres', 'me_rout', 'rdmeth_rec', 'dmeth_rec', 'me_trial', 'mm_rupt', 'mm_uhyst', 'mm_aicu', 'no_mmorb', 'apgar5', 'apgar5r', 'dbwt', 'bwtr12', 'bwtr4', 'ab_aven1', 'ab_aven6', 'ab_nicu', 'ab_surf', 'ab_anti', 'ab_seiz', 'no_abnorm', 'ilive', 'f_facility', 'mage_impflg', 'mage_repflg', 'mraceimp', 'f_mhisp', 'mar_imp', 'f_mar_p', 'f_meduc', 'fagerpt_flg', 'f_fhisp', 'f_mpcb', 'f_tpcv', 'f_wic', 'f_cigs_0', 'f_cigs_1', 'f_cigs_2', 'f_cigs_3', 'f_tobaco', 'f_m_ht', 'f_pwgt', 'f_dwgt', 'f_wtgain', 'f_rf_pdiab', 'f_rf_gdiab', 'f_rf_phyper', 'f_rf_ghyper', 'f_rf_eclamp', 'f_rf_ppb', 'f_rf_inf_drg', 'f_rf_inf_art', 'f_rf_cesar', 'f_rf_ncesar', 'f_ip_gonor', 'f_ip_syph', 'f_ip_chlam', 'f_ip_hepatb', 'f_ip_hepatc', 'f_pay_rec', 'imp_plur', 'imp_sex', 'obgest_flg', 'f_ob_fail', 'f_ld_indl', 'f_ld_augm', 'f_ld_chor', 'f_me_pres', 'f_me_rout', 'f_me_trial', 'f_dmeth_rec', 'f_mm_rupt', 'f_mm_uhyst', 'f_mm_aicu', 'f_apgar5', 'f_ab_vent', 'f_ab_vent6', 'f_ab_nicu', 'f_ab_surfac', 'f_ab_antibio', 'f_ab_seiz']] "
   ]
  },
  {
   "cell_type": "code",
   "execution_count": 4,
   "metadata": {
    "collapsed": true
   },
   "outputs": [],
   "source": [
    "df_pruned.to_pickle('df_pruned.pickle')"
   ]
  },
  {
   "cell_type": "code",
   "execution_count": 63,
   "metadata": {
    "collapsed": true
   },
   "outputs": [],
   "source": [
    "pruned_df = pd.read_pickle('df_pruned.pickle')"
   ]
  },
  {
   "cell_type": "code",
   "execution_count": 3,
   "metadata": {
    "collapsed": true
   },
   "outputs": [],
   "source": [
    "outcomes = ['ob_ecvf', 'ld_indl', 'ld_augm', 'ld_chor', 'me_pres', 'me_rout', 'rdmeth_rec', 'dmeth_rec', 'me_trial', 'mm_rupt', 'mm_uhyst', 'mm_aicu', 'no_mmorb', 'apgar5', 'apgar5r', 'dbwt', 'bwtr12', 'bwtr4', 'ab_aven1', 'ab_aven6', 'ab_nicu', 'ab_surf', 'ab_anti', 'ab_seiz', 'no_abnorm', 'ilive']"
   ]
  },
  {
   "cell_type": "code",
   "execution_count": 3,
   "metadata": {},
   "outputs": [
    {
     "data": {
      "text/plain": [
       "(3956112, 168)"
      ]
     },
     "execution_count": 3,
     "metadata": {},
     "output_type": "execute_result"
    }
   ],
   "source": [
    "pruned_df.shape"
   ]
  },
  {
   "cell_type": "code",
   "execution_count": 9,
   "metadata": {},
   "outputs": [
    {
     "data": {
      "text/plain": [
       "Index(['dob_mm', 'dob_tt', 'dob_wk', 'bfacil', 'bfacil3', 'mager', 'mager14',\n",
       "       'mager9', 'mbstate_rec', 'restatus',\n",
       "       ...\n",
       "       'f_mm_rupt', 'f_mm_uhyst', 'f_mm_aicu', 'f_apgar5', 'f_ab_vent',\n",
       "       'f_ab_vent6', 'f_ab_nicu', 'f_ab_surfac', 'f_ab_antibio', 'f_ab_seiz'],\n",
       "      dtype='object', length=168)"
      ]
     },
     "execution_count": 9,
     "metadata": {},
     "output_type": "execute_result"
    }
   ],
   "source": [
    "pruned_df.columns"
   ]
  },
  {
   "cell_type": "code",
   "execution_count": 64,
   "metadata": {
    "collapsed": true
   },
   "outputs": [],
   "source": [
    "rf_outcome_mask_pruned = ((pruned_df.f_ld_indl == 1)&(pruned_df.f_ob_fail == 1)&\n",
    "                        (pruned_df.f_ld_augm == 1)&(pruned_df.f_ld_chor == 1)&\n",
    "                        (pruned_df.f_me_pres == 1)&(pruned_df.f_me_rout == 1)&\n",
    "                        (pruned_df.f_me_trial == 1)&(pruned_df.f_dmeth_rec == 1)&\n",
    "                        (pruned_df.f_mm_rupt == 1)&(pruned_df.f_mm_uhyst == 1)&\n",
    "                        (pruned_df.f_mm_aicu == 1)&(pruned_df.f_apgar5 == 1)& \n",
    "                        (pruned_df.f_ab_vent == 1)&(pruned_df.f_ab_vent6 == 1)&\n",
    "                        (pruned_df.f_ab_nicu == 1)&(pruned_df.f_ab_surfac == 1)&\n",
    "                        (pruned_df.f_ab_antibio == 1)&(pruned_df.f_ab_seiz == 1))"
   ]
  },
  {
   "cell_type": "code",
   "execution_count": 65,
   "metadata": {},
   "outputs": [],
   "source": [
    "#dropping observations with outcome reporting flags = 0\n",
    "births_df = pruned_df[rf_outcome_mask_pruned]"
   ]
  },
  {
   "cell_type": "code",
   "execution_count": 66,
   "metadata": {},
   "outputs": [
    {
     "data": {
      "text/plain": [
       "(3945916, 169)"
      ]
     },
     "execution_count": 66,
     "metadata": {},
     "output_type": "execute_result"
    }
   ],
   "source": [
    "births_df.shape"
   ]
  },
  {
   "cell_type": "code",
   "execution_count": 67,
   "metadata": {},
   "outputs": [
    {
     "data": {
      "text/plain": [
       "dob_mm                0\n",
       "dob_tt                0\n",
       "dob_wk                0\n",
       "bfacil                0\n",
       "bfacil3               0\n",
       "mager                 0\n",
       "mager14               0\n",
       "mager9                0\n",
       "mbstate_rec           0\n",
       "restatus              0\n",
       "mrace31               0\n",
       "mrace6                0\n",
       "mrace15               0\n",
       "mbrace                0\n",
       "mhisp_r               0\n",
       "mracehisp             0\n",
       "mar_p                 0\n",
       "dmar                  0\n",
       "meduc                 0\n",
       "fagecomb              0\n",
       "fagerec11             0\n",
       "frace31               0\n",
       "frace6                0\n",
       "frace15               0\n",
       "fbrace                0\n",
       "fhisp_r               0\n",
       "fracehisp             0\n",
       "feduc                 0\n",
       "priorlive             0\n",
       "priordead             0\n",
       "                 ...   \n",
       "f_rf_inf_art          0\n",
       "f_rf_cesar            0\n",
       "f_rf_ncesar           0\n",
       "f_ip_gonor            0\n",
       "f_ip_syph             0\n",
       "f_ip_chlam            0\n",
       "f_ip_hepatb           0\n",
       "f_ip_hepatc           0\n",
       "f_pay_rec             0\n",
       "imp_plur        3945674\n",
       "imp_sex         3945838\n",
       "obgest_flg      3726145\n",
       "f_ob_fail             0\n",
       "f_ld_indl             0\n",
       "f_ld_augm             0\n",
       "f_ld_chor             0\n",
       "f_me_pres             0\n",
       "f_me_rout             0\n",
       "f_me_trial            0\n",
       "f_dmeth_rec           0\n",
       "f_mm_rupt             0\n",
       "f_mm_uhyst            0\n",
       "f_mm_aicu             0\n",
       "f_apgar5              0\n",
       "f_ab_vent             0\n",
       "f_ab_vent6            0\n",
       "f_ab_nicu             0\n",
       "f_ab_surfac           0\n",
       "f_ab_antibio          0\n",
       "f_ab_seiz             0\n",
       "Length: 169, dtype: int64"
      ]
     },
     "execution_count": 67,
     "metadata": {},
     "output_type": "execute_result"
    }
   ],
   "source": [
    "births_df.isnull().sum()"
   ]
  },
  {
   "cell_type": "code",
   "execution_count": 68,
   "metadata": {},
   "outputs": [],
   "source": [
    "births_df = births_df.drop(['f_ob_fail', 'f_ld_indl','f_ld_augm', 'f_ld_chor', \n",
    "                             'f_me_pres', 'f_me_rout', 'f_me_trial', 'f_dmeth_rec', \n",
    "                             'f_mm_rupt', 'f_mm_uhyst', 'f_mm_aicu', 'f_apgar5',\n",
    "                             'f_ab_vent', 'f_ab_vent6', 'f_ab_nicu', 'f_ab_surfac', \n",
    "                             'f_ab_antibio', 'f_ab_seiz'], 1)"
   ]
  },
  {
   "cell_type": "code",
   "execution_count": 69,
   "metadata": {},
   "outputs": [
    {
     "data": {
      "text/html": [
       "<div>\n",
       "<style>\n",
       "    .dataframe thead tr:only-child th {\n",
       "        text-align: right;\n",
       "    }\n",
       "\n",
       "    .dataframe thead th {\n",
       "        text-align: left;\n",
       "    }\n",
       "\n",
       "    .dataframe tbody tr th {\n",
       "        vertical-align: top;\n",
       "    }\n",
       "</style>\n",
       "<table border=\"1\" class=\"dataframe\">\n",
       "  <thead>\n",
       "    <tr style=\"text-align: right;\">\n",
       "      <th></th>\n",
       "      <th>dob_mm</th>\n",
       "      <th>dob_tt</th>\n",
       "      <th>dob_wk</th>\n",
       "      <th>bfacil</th>\n",
       "      <th>mager</th>\n",
       "      <th>mager14</th>\n",
       "      <th>mager9</th>\n",
       "      <th>mbstate_rec</th>\n",
       "      <th>restatus</th>\n",
       "      <th>mrace31</th>\n",
       "      <th>...</th>\n",
       "      <th>f_rf_ncesar</th>\n",
       "      <th>f_ip_gonor</th>\n",
       "      <th>f_ip_syph</th>\n",
       "      <th>f_ip_chlam</th>\n",
       "      <th>f_ip_hepatb</th>\n",
       "      <th>f_ip_hepatc</th>\n",
       "      <th>f_pay_rec</th>\n",
       "      <th>imp_plur</th>\n",
       "      <th>imp_sex</th>\n",
       "      <th>obgest_flg</th>\n",
       "    </tr>\n",
       "    <tr>\n",
       "      <th>bfacil3</th>\n",
       "      <th></th>\n",
       "      <th></th>\n",
       "      <th></th>\n",
       "      <th></th>\n",
       "      <th></th>\n",
       "      <th></th>\n",
       "      <th></th>\n",
       "      <th></th>\n",
       "      <th></th>\n",
       "      <th></th>\n",
       "      <th></th>\n",
       "      <th></th>\n",
       "      <th></th>\n",
       "      <th></th>\n",
       "      <th></th>\n",
       "      <th></th>\n",
       "      <th></th>\n",
       "      <th></th>\n",
       "      <th></th>\n",
       "      <th></th>\n",
       "      <th></th>\n",
       "    </tr>\n",
       "  </thead>\n",
       "  <tbody>\n",
       "    <tr>\n",
       "      <th>1</th>\n",
       "      <td>3883295</td>\n",
       "      <td>3883295</td>\n",
       "      <td>3883295</td>\n",
       "      <td>3883295</td>\n",
       "      <td>3883295</td>\n",
       "      <td>3883295</td>\n",
       "      <td>3883295</td>\n",
       "      <td>3883295</td>\n",
       "      <td>3883295</td>\n",
       "      <td>3883295</td>\n",
       "      <td>...</td>\n",
       "      <td>3883295</td>\n",
       "      <td>3883295</td>\n",
       "      <td>3883295</td>\n",
       "      <td>3883295</td>\n",
       "      <td>3883295</td>\n",
       "      <td>3883295</td>\n",
       "      <td>3883295</td>\n",
       "      <td>193</td>\n",
       "      <td>75</td>\n",
       "      <td>215846</td>\n",
       "    </tr>\n",
       "    <tr>\n",
       "      <th>2</th>\n",
       "      <td>62393</td>\n",
       "      <td>62393</td>\n",
       "      <td>62393</td>\n",
       "      <td>62393</td>\n",
       "      <td>62393</td>\n",
       "      <td>62393</td>\n",
       "      <td>62393</td>\n",
       "      <td>62393</td>\n",
       "      <td>62393</td>\n",
       "      <td>62393</td>\n",
       "      <td>...</td>\n",
       "      <td>62393</td>\n",
       "      <td>62393</td>\n",
       "      <td>62393</td>\n",
       "      <td>62393</td>\n",
       "      <td>62393</td>\n",
       "      <td>62393</td>\n",
       "      <td>62393</td>\n",
       "      <td>22</td>\n",
       "      <td>3</td>\n",
       "      <td>3909</td>\n",
       "    </tr>\n",
       "    <tr>\n",
       "      <th>3</th>\n",
       "      <td>228</td>\n",
       "      <td>228</td>\n",
       "      <td>228</td>\n",
       "      <td>228</td>\n",
       "      <td>228</td>\n",
       "      <td>228</td>\n",
       "      <td>228</td>\n",
       "      <td>228</td>\n",
       "      <td>228</td>\n",
       "      <td>228</td>\n",
       "      <td>...</td>\n",
       "      <td>228</td>\n",
       "      <td>228</td>\n",
       "      <td>228</td>\n",
       "      <td>228</td>\n",
       "      <td>228</td>\n",
       "      <td>228</td>\n",
       "      <td>228</td>\n",
       "      <td>27</td>\n",
       "      <td>0</td>\n",
       "      <td>16</td>\n",
       "    </tr>\n",
       "  </tbody>\n",
       "</table>\n",
       "<p>3 rows × 150 columns</p>\n",
       "</div>"
      ],
      "text/plain": [
       "          dob_mm   dob_tt   dob_wk   bfacil    mager  mager14   mager9  \\\n",
       "bfacil3                                                                  \n",
       "1        3883295  3883295  3883295  3883295  3883295  3883295  3883295   \n",
       "2          62393    62393    62393    62393    62393    62393    62393   \n",
       "3            228      228      228      228      228      228      228   \n",
       "\n",
       "         mbstate_rec  restatus  mrace31     ...      f_rf_ncesar  f_ip_gonor  \\\n",
       "bfacil3                                     ...                                \n",
       "1            3883295   3883295  3883295     ...          3883295     3883295   \n",
       "2              62393     62393    62393     ...            62393       62393   \n",
       "3                228       228      228     ...              228         228   \n",
       "\n",
       "         f_ip_syph  f_ip_chlam  f_ip_hepatb  f_ip_hepatc  f_pay_rec  imp_plur  \\\n",
       "bfacil3                                                                         \n",
       "1          3883295     3883295      3883295      3883295    3883295       193   \n",
       "2            62393       62393        62393        62393      62393        22   \n",
       "3              228         228          228          228        228        27   \n",
       "\n",
       "         imp_sex  obgest_flg  \n",
       "bfacil3                       \n",
       "1             75      215846  \n",
       "2              3        3909  \n",
       "3              0          16  \n",
       "\n",
       "[3 rows x 150 columns]"
      ]
     },
     "execution_count": 69,
     "metadata": {},
     "output_type": "execute_result"
    }
   ],
   "source": [
    "births_df.groupby(births_df.bfacil3).count()"
   ]
  },
  {
   "cell_type": "code",
   "execution_count": 70,
   "metadata": {
    "collapsed": true
   },
   "outputs": [],
   "source": [
    "#births_df.ld_augm = births_df.ld_augm.replace('U',np.nan)\n",
    "births_df.ld_chor = births_df.ld_chor.replace('U',np.nan)\n",
    "births_df.me_trial = births_df.me_trial.replace('U',np.nan)\n",
    "births_df.mm_rupt = births_df.mm_rupt.replace('U',np.nan)\n",
    "births_df.mm_uhyst = births_df.mm_uhyst.replace('U',np.nan)\n",
    "births_df.mm_aicu = births_df.mm_aicu.replace('U',np.nan)\n",
    "births_df.ab_aven1 = births_df.ab_aven1.replace('U',np.nan)\n",
    "births_df.ab_nicu = births_df.ab_nicu.replace('U',np.nan)\n",
    "births_df.ab_surf = births_df.ab_surf.replace('U',np.nan)\n",
    "births_df.ab_anti = births_df.ab_anti.replace('U',np.nan)\n",
    "births_df.ab_seiz = births_df.ab_seiz.replace('U',np.nan)\n",
    "births_df.ilive = births_df.ilive.replace('U',np.nan)"
   ]
  },
  {
   "cell_type": "code",
   "execution_count": 71,
   "metadata": {},
   "outputs": [
    {
     "data": {
      "text/plain": [
       "(3945916, 151)"
      ]
     },
     "execution_count": 71,
     "metadata": {},
     "output_type": "execute_result"
    }
   ],
   "source": [
    "births_df.shape"
   ]
  },
  {
   "cell_type": "code",
   "execution_count": 72,
   "metadata": {},
   "outputs": [],
   "source": [
    "births_df.apgar5r = births_df.apgar5r.replace({5: np.nan})"
   ]
  },
  {
   "cell_type": "code",
   "execution_count": 73,
   "metadata": {},
   "outputs": [
    {
     "data": {
      "text/plain": [
       "ld_augm         0\n",
       "ld_chor      2629\n",
       "me_trial    16743\n",
       "mm_rupt      5362\n",
       "mm_uhyst     5362\n",
       "mm_aicu      5362\n",
       "apgar5r     16018\n",
       "ab_aven1     4401\n",
       "ab_nicu      4401\n",
       "ab_surf      4401\n",
       "ab_anti      4401\n",
       "ab_seiz      4401\n",
       "ilive        6190\n",
       "dtype: int64"
      ]
     },
     "execution_count": 73,
     "metadata": {},
     "output_type": "execute_result"
    }
   ],
   "source": [
    "births_df[['ld_augm', 'ld_chor', 'me_trial', 'mm_rupt', 'mm_uhyst', 'mm_aicu', 'apgar5r',\n",
    "          'ab_aven1', 'ab_nicu', 'ab_surf', 'ab_anti', 'ab_seiz', 'ilive']].isnull().sum()"
   ]
  },
  {
   "cell_type": "code",
   "execution_count": 74,
   "metadata": {},
   "outputs": [
    {
     "data": {
      "text/plain": [
       "dob_mm                0\n",
       "dob_tt                0\n",
       "dob_wk                0\n",
       "bfacil                0\n",
       "bfacil3               0\n",
       "mager                 0\n",
       "mager14               0\n",
       "mager9                0\n",
       "mbstate_rec           0\n",
       "restatus              0\n",
       "mrace31               0\n",
       "mrace6                0\n",
       "mrace15               0\n",
       "mbrace                0\n",
       "mhisp_r               0\n",
       "mracehisp             0\n",
       "mar_p                 0\n",
       "dmar                  0\n",
       "meduc                 0\n",
       "fagecomb              0\n",
       "fagerec11             0\n",
       "frace31               0\n",
       "frace6                0\n",
       "frace15               0\n",
       "fbrace                0\n",
       "fhisp_r               0\n",
       "fracehisp             0\n",
       "feduc                 0\n",
       "priorlive             0\n",
       "priordead             0\n",
       "                 ...   \n",
       "f_tpcv                0\n",
       "f_wic                 0\n",
       "f_cigs_0              0\n",
       "f_cigs_1              0\n",
       "f_cigs_2              0\n",
       "f_cigs_3              0\n",
       "f_tobaco              0\n",
       "f_m_ht                0\n",
       "f_pwgt                0\n",
       "f_dwgt                0\n",
       "f_wtgain              0\n",
       "f_rf_pdiab            0\n",
       "f_rf_gdiab            0\n",
       "f_rf_phyper           0\n",
       "f_rf_ghyper           0\n",
       "f_rf_eclamp           0\n",
       "f_rf_ppb              0\n",
       "f_rf_inf_drg          0\n",
       "f_rf_inf_art          0\n",
       "f_rf_cesar            0\n",
       "f_rf_ncesar           0\n",
       "f_ip_gonor            0\n",
       "f_ip_syph             0\n",
       "f_ip_chlam            0\n",
       "f_ip_hepatb           0\n",
       "f_ip_hepatc           0\n",
       "f_pay_rec             0\n",
       "imp_plur        3945674\n",
       "imp_sex         3945838\n",
       "obgest_flg      3726145\n",
       "Length: 151, dtype: int64"
      ]
     },
     "execution_count": 74,
     "metadata": {},
     "output_type": "execute_result"
    }
   ],
   "source": [
    "births_df.isnull().sum()"
   ]
  },
  {
   "cell_type": "code",
   "execution_count": 75,
   "metadata": {},
   "outputs": [],
   "source": [
    "births_df = births_df.dropna(how='any', subset = [ 'ld_chor', 'me_trial', 'mm_rupt',\n",
    "                                                  'mm_uhyst', 'mm_aicu', 'apgar5r', 'ab_aven1', \n",
    "                                                  'ab_nicu', 'ab_surf', 'ab_anti', 'ab_seiz', \n",
    "                                                  'ilive'])"
   ]
  },
  {
   "cell_type": "code",
   "execution_count": 76,
   "metadata": {},
   "outputs": [
    {
     "data": {
      "text/plain": [
       "(3901012, 151)"
      ]
     },
     "execution_count": 76,
     "metadata": {},
     "output_type": "execute_result"
    }
   ],
   "source": [
    "births_df.shape"
   ]
  },
  {
   "cell_type": "code",
   "execution_count": 77,
   "metadata": {},
   "outputs": [],
   "source": [
    "risky_outcomes0 = ((births_df.ld_chor == 'Y') |(births_df.mm_rupt == 'Y') | \n",
    "                   (births_df.mm_uhyst == 'Y') | (births_df.mm_aicu == 'Y') |\n",
    "                   (births_df.apgar5r <= 2) | (births_df.ab_aven1 == 'Y') | \n",
    "                   (births_df.ab_nicu == 'Y') |(births_df.ab_surf == 'Y') | \n",
    "                   (births_df.ab_anti == 'Y') | (births_df.ab_seiz == 'Y') |\n",
    "                   (births_df.ilive == 'N'))"
   ]
  },
  {
   "cell_type": "code",
   "execution_count": null,
   "metadata": {
    "collapsed": true
   },
   "outputs": [],
   "source": []
  },
  {
   "cell_type": "code",
   "execution_count": 78,
   "metadata": {},
   "outputs": [
    {
     "data": {
      "text/plain": [
       "(471516, 151)"
      ]
     },
     "execution_count": 78,
     "metadata": {},
     "output_type": "execute_result"
    }
   ],
   "source": [
    "births_df[risky_outcomes0].shape"
   ]
  },
  {
   "cell_type": "code",
   "execution_count": 79,
   "metadata": {
    "collapsed": true
   },
   "outputs": [],
   "source": [
    "births_df['risky0'] = 0"
   ]
  },
  {
   "cell_type": "code",
   "execution_count": 80,
   "metadata": {},
   "outputs": [
    {
     "data": {
      "text/html": [
       "<div>\n",
       "<style>\n",
       "    .dataframe thead tr:only-child th {\n",
       "        text-align: right;\n",
       "    }\n",
       "\n",
       "    .dataframe thead th {\n",
       "        text-align: left;\n",
       "    }\n",
       "\n",
       "    .dataframe tbody tr th {\n",
       "        vertical-align: top;\n",
       "    }\n",
       "</style>\n",
       "<table border=\"1\" class=\"dataframe\">\n",
       "  <thead>\n",
       "    <tr style=\"text-align: right;\">\n",
       "      <th></th>\n",
       "      <th>dob_mm</th>\n",
       "      <th>dob_tt</th>\n",
       "      <th>dob_wk</th>\n",
       "      <th>bfacil</th>\n",
       "      <th>bfacil3</th>\n",
       "      <th>mager</th>\n",
       "      <th>mager14</th>\n",
       "      <th>mager9</th>\n",
       "      <th>mbstate_rec</th>\n",
       "      <th>restatus</th>\n",
       "      <th>...</th>\n",
       "      <th>f_ip_gonor</th>\n",
       "      <th>f_ip_syph</th>\n",
       "      <th>f_ip_chlam</th>\n",
       "      <th>f_ip_hepatb</th>\n",
       "      <th>f_ip_hepatc</th>\n",
       "      <th>f_pay_rec</th>\n",
       "      <th>imp_plur</th>\n",
       "      <th>imp_sex</th>\n",
       "      <th>obgest_flg</th>\n",
       "      <th>risky0</th>\n",
       "    </tr>\n",
       "  </thead>\n",
       "  <tbody>\n",
       "    <tr>\n",
       "      <th>0</th>\n",
       "      <td>1</td>\n",
       "      <td>2129</td>\n",
       "      <td>6</td>\n",
       "      <td>1</td>\n",
       "      <td>1</td>\n",
       "      <td>35</td>\n",
       "      <td>11</td>\n",
       "      <td>6</td>\n",
       "      <td>2</td>\n",
       "      <td>1</td>\n",
       "      <td>...</td>\n",
       "      <td>1</td>\n",
       "      <td>1</td>\n",
       "      <td>1</td>\n",
       "      <td>1</td>\n",
       "      <td>1</td>\n",
       "      <td>1</td>\n",
       "      <td>NaN</td>\n",
       "      <td>NaN</td>\n",
       "      <td>NaN</td>\n",
       "      <td>0</td>\n",
       "    </tr>\n",
       "    <tr>\n",
       "      <th>1</th>\n",
       "      <td>1</td>\n",
       "      <td>2129</td>\n",
       "      <td>6</td>\n",
       "      <td>1</td>\n",
       "      <td>1</td>\n",
       "      <td>32</td>\n",
       "      <td>10</td>\n",
       "      <td>5</td>\n",
       "      <td>2</td>\n",
       "      <td>1</td>\n",
       "      <td>...</td>\n",
       "      <td>1</td>\n",
       "      <td>1</td>\n",
       "      <td>1</td>\n",
       "      <td>1</td>\n",
       "      <td>1</td>\n",
       "      <td>1</td>\n",
       "      <td>NaN</td>\n",
       "      <td>NaN</td>\n",
       "      <td>NaN</td>\n",
       "      <td>0</td>\n",
       "    </tr>\n",
       "    <tr>\n",
       "      <th>2</th>\n",
       "      <td>1</td>\n",
       "      <td>1956</td>\n",
       "      <td>6</td>\n",
       "      <td>1</td>\n",
       "      <td>1</td>\n",
       "      <td>18</td>\n",
       "      <td>6</td>\n",
       "      <td>2</td>\n",
       "      <td>1</td>\n",
       "      <td>2</td>\n",
       "      <td>...</td>\n",
       "      <td>1</td>\n",
       "      <td>1</td>\n",
       "      <td>1</td>\n",
       "      <td>1</td>\n",
       "      <td>1</td>\n",
       "      <td>1</td>\n",
       "      <td>NaN</td>\n",
       "      <td>NaN</td>\n",
       "      <td>1.0</td>\n",
       "      <td>0</td>\n",
       "    </tr>\n",
       "    <tr>\n",
       "      <th>3</th>\n",
       "      <td>1</td>\n",
       "      <td>2247</td>\n",
       "      <td>6</td>\n",
       "      <td>1</td>\n",
       "      <td>1</td>\n",
       "      <td>34</td>\n",
       "      <td>10</td>\n",
       "      <td>5</td>\n",
       "      <td>1</td>\n",
       "      <td>1</td>\n",
       "      <td>...</td>\n",
       "      <td>1</td>\n",
       "      <td>1</td>\n",
       "      <td>1</td>\n",
       "      <td>1</td>\n",
       "      <td>1</td>\n",
       "      <td>1</td>\n",
       "      <td>NaN</td>\n",
       "      <td>NaN</td>\n",
       "      <td>NaN</td>\n",
       "      <td>0</td>\n",
       "    </tr>\n",
       "    <tr>\n",
       "      <th>4</th>\n",
       "      <td>1</td>\n",
       "      <td>1702</td>\n",
       "      <td>7</td>\n",
       "      <td>1</td>\n",
       "      <td>1</td>\n",
       "      <td>31</td>\n",
       "      <td>10</td>\n",
       "      <td>5</td>\n",
       "      <td>2</td>\n",
       "      <td>1</td>\n",
       "      <td>...</td>\n",
       "      <td>1</td>\n",
       "      <td>1</td>\n",
       "      <td>1</td>\n",
       "      <td>1</td>\n",
       "      <td>1</td>\n",
       "      <td>1</td>\n",
       "      <td>NaN</td>\n",
       "      <td>NaN</td>\n",
       "      <td>NaN</td>\n",
       "      <td>0</td>\n",
       "    </tr>\n",
       "  </tbody>\n",
       "</table>\n",
       "<p>5 rows × 152 columns</p>\n",
       "</div>"
      ],
      "text/plain": [
       "   dob_mm  dob_tt  dob_wk  bfacil  bfacil3  mager  mager14  mager9  \\\n",
       "0       1    2129       6       1        1     35       11       6   \n",
       "1       1    2129       6       1        1     32       10       5   \n",
       "2       1    1956       6       1        1     18        6       2   \n",
       "3       1    2247       6       1        1     34       10       5   \n",
       "4       1    1702       7       1        1     31       10       5   \n",
       "\n",
       "   mbstate_rec  restatus   ...    f_ip_gonor  f_ip_syph  f_ip_chlam  \\\n",
       "0            2         1   ...             1          1           1   \n",
       "1            2         1   ...             1          1           1   \n",
       "2            1         2   ...             1          1           1   \n",
       "3            1         1   ...             1          1           1   \n",
       "4            2         1   ...             1          1           1   \n",
       "\n",
       "   f_ip_hepatb  f_ip_hepatc  f_pay_rec imp_plur  imp_sex  obgest_flg  risky0  \n",
       "0            1            1          1      NaN      NaN         NaN       0  \n",
       "1            1            1          1      NaN      NaN         NaN       0  \n",
       "2            1            1          1      NaN      NaN         1.0       0  \n",
       "3            1            1          1      NaN      NaN         NaN       0  \n",
       "4            1            1          1      NaN      NaN         NaN       0  \n",
       "\n",
       "[5 rows x 152 columns]"
      ]
     },
     "execution_count": 80,
     "metadata": {},
     "output_type": "execute_result"
    }
   ],
   "source": [
    "births_df.head()"
   ]
  },
  {
   "cell_type": "code",
   "execution_count": 81,
   "metadata": {
    "collapsed": true
   },
   "outputs": [],
   "source": [
    "births_df.loc[risky_outcomes0, 'risky0'] = 1"
   ]
  },
  {
   "cell_type": "code",
   "execution_count": 82,
   "metadata": {},
   "outputs": [
    {
     "data": {
      "text/plain": [
       "(471516, 152)"
      ]
     },
     "execution_count": 82,
     "metadata": {},
     "output_type": "execute_result"
    }
   ],
   "source": [
    "births_df[risky_outcomes0].shape"
   ]
  },
  {
   "cell_type": "code",
   "execution_count": 83,
   "metadata": {
    "scrolled": true
   },
   "outputs": [
    {
     "data": {
      "text/html": [
       "<div>\n",
       "<style>\n",
       "    .dataframe thead tr:only-child th {\n",
       "        text-align: right;\n",
       "    }\n",
       "\n",
       "    .dataframe thead th {\n",
       "        text-align: left;\n",
       "    }\n",
       "\n",
       "    .dataframe tbody tr th {\n",
       "        vertical-align: top;\n",
       "    }\n",
       "</style>\n",
       "<table border=\"1\" class=\"dataframe\">\n",
       "  <thead>\n",
       "    <tr style=\"text-align: right;\">\n",
       "      <th></th>\n",
       "      <th>dob_mm</th>\n",
       "      <th>dob_tt</th>\n",
       "      <th>dob_wk</th>\n",
       "      <th>bfacil</th>\n",
       "      <th>bfacil3</th>\n",
       "      <th>mager</th>\n",
       "      <th>mager14</th>\n",
       "      <th>mager9</th>\n",
       "      <th>mbstate_rec</th>\n",
       "      <th>restatus</th>\n",
       "      <th>...</th>\n",
       "      <th>f_rf_ncesar</th>\n",
       "      <th>f_ip_gonor</th>\n",
       "      <th>f_ip_syph</th>\n",
       "      <th>f_ip_chlam</th>\n",
       "      <th>f_ip_hepatb</th>\n",
       "      <th>f_ip_hepatc</th>\n",
       "      <th>f_pay_rec</th>\n",
       "      <th>imp_plur</th>\n",
       "      <th>imp_sex</th>\n",
       "      <th>obgest_flg</th>\n",
       "    </tr>\n",
       "    <tr>\n",
       "      <th>risky0</th>\n",
       "      <th></th>\n",
       "      <th></th>\n",
       "      <th></th>\n",
       "      <th></th>\n",
       "      <th></th>\n",
       "      <th></th>\n",
       "      <th></th>\n",
       "      <th></th>\n",
       "      <th></th>\n",
       "      <th></th>\n",
       "      <th></th>\n",
       "      <th></th>\n",
       "      <th></th>\n",
       "      <th></th>\n",
       "      <th></th>\n",
       "      <th></th>\n",
       "      <th></th>\n",
       "      <th></th>\n",
       "      <th></th>\n",
       "      <th></th>\n",
       "      <th></th>\n",
       "    </tr>\n",
       "  </thead>\n",
       "  <tbody>\n",
       "    <tr>\n",
       "      <th>0</th>\n",
       "      <td>3429496</td>\n",
       "      <td>3429496</td>\n",
       "      <td>3429496</td>\n",
       "      <td>3429496</td>\n",
       "      <td>3429496</td>\n",
       "      <td>3429496</td>\n",
       "      <td>3429496</td>\n",
       "      <td>3429496</td>\n",
       "      <td>3429496</td>\n",
       "      <td>3429496</td>\n",
       "      <td>...</td>\n",
       "      <td>3429496</td>\n",
       "      <td>3429496</td>\n",
       "      <td>3429496</td>\n",
       "      <td>3429496</td>\n",
       "      <td>3429496</td>\n",
       "      <td>3429496</td>\n",
       "      <td>3429496</td>\n",
       "      <td>68</td>\n",
       "      <td>19</td>\n",
       "      <td>179771</td>\n",
       "    </tr>\n",
       "    <tr>\n",
       "      <th>1</th>\n",
       "      <td>471516</td>\n",
       "      <td>471516</td>\n",
       "      <td>471516</td>\n",
       "      <td>471516</td>\n",
       "      <td>471516</td>\n",
       "      <td>471516</td>\n",
       "      <td>471516</td>\n",
       "      <td>471516</td>\n",
       "      <td>471516</td>\n",
       "      <td>471516</td>\n",
       "      <td>...</td>\n",
       "      <td>471516</td>\n",
       "      <td>471516</td>\n",
       "      <td>471516</td>\n",
       "      <td>471516</td>\n",
       "      <td>471516</td>\n",
       "      <td>471516</td>\n",
       "      <td>471516</td>\n",
       "      <td>23</td>\n",
       "      <td>53</td>\n",
       "      <td>34523</td>\n",
       "    </tr>\n",
       "  </tbody>\n",
       "</table>\n",
       "<p>2 rows × 151 columns</p>\n",
       "</div>"
      ],
      "text/plain": [
       "         dob_mm   dob_tt   dob_wk   bfacil  bfacil3    mager  mager14  \\\n",
       "risky0                                                                  \n",
       "0       3429496  3429496  3429496  3429496  3429496  3429496  3429496   \n",
       "1        471516   471516   471516   471516   471516   471516   471516   \n",
       "\n",
       "         mager9  mbstate_rec  restatus     ...      f_rf_ncesar  f_ip_gonor  \\\n",
       "risky0                                     ...                                \n",
       "0       3429496      3429496   3429496     ...          3429496     3429496   \n",
       "1        471516       471516    471516     ...           471516      471516   \n",
       "\n",
       "        f_ip_syph  f_ip_chlam  f_ip_hepatb  f_ip_hepatc  f_pay_rec  imp_plur  \\\n",
       "risky0                                                                         \n",
       "0         3429496     3429496      3429496      3429496    3429496        68   \n",
       "1          471516      471516       471516       471516     471516        23   \n",
       "\n",
       "        imp_sex  obgest_flg  \n",
       "risky0                       \n",
       "0            19      179771  \n",
       "1            53       34523  \n",
       "\n",
       "[2 rows x 151 columns]"
      ]
     },
     "execution_count": 83,
     "metadata": {},
     "output_type": "execute_result"
    }
   ],
   "source": [
    "births_df.groupby('risky0').count()"
   ]
  },
  {
   "cell_type": "code",
   "execution_count": 84,
   "metadata": {},
   "outputs": [
    {
     "name": "stdout",
     "output_type": "stream",
     "text": [
      "<class 'pandas.core.frame.DataFrame'>\n",
      "Int64Index: 3901012 entries, 0 to 3956110\n",
      "Data columns (total 152 columns):\n",
      "dob_mm          3901012 non-null int64\n",
      "dob_tt          3901012 non-null int64\n",
      "dob_wk          3901012 non-null int64\n",
      "bfacil          3901012 non-null int64\n",
      "bfacil3         3901012 non-null int64\n",
      "mager           3901012 non-null int64\n",
      "mager14         3901012 non-null int64\n",
      "mager9          3901012 non-null int64\n",
      "mbstate_rec     3901012 non-null int64\n",
      "restatus        3901012 non-null int64\n",
      "mrace31         3901012 non-null int64\n",
      "mrace6          3901012 non-null int64\n",
      "mrace15         3901012 non-null int64\n",
      "mbrace          3901012 non-null int64\n",
      "mhisp_r         3901012 non-null int64\n",
      "mracehisp       3901012 non-null int64\n",
      "mar_p           3901012 non-null object\n",
      "dmar            3901012 non-null int64\n",
      "meduc           3901012 non-null int64\n",
      "fagecomb        3901012 non-null int64\n",
      "fagerec11       3901012 non-null int64\n",
      "frace31         3901012 non-null int64\n",
      "frace6          3901012 non-null int64\n",
      "frace15         3901012 non-null int64\n",
      "fbrace          3901012 non-null int64\n",
      "fhisp_r         3901012 non-null int64\n",
      "fracehisp       3901012 non-null int64\n",
      "feduc           3901012 non-null int64\n",
      "priorlive       3901012 non-null int64\n",
      "priordead       3901012 non-null int64\n",
      "priorterm       3901012 non-null int64\n",
      "lbo_rec         3901012 non-null int64\n",
      "tbo_rec         3901012 non-null int64\n",
      "illb_r          3901012 non-null int64\n",
      "illb_r11        3901012 non-null int64\n",
      "precare         3901012 non-null int64\n",
      "precare5        3901012 non-null int64\n",
      "previs          3901012 non-null int64\n",
      "previs_rec      3901012 non-null int64\n",
      "wic             3901012 non-null object\n",
      "cig_0           3901012 non-null int64\n",
      "cig_1           3901012 non-null int64\n",
      "cig_2           3901012 non-null int64\n",
      "cig_3           3901012 non-null int64\n",
      "cig0_r          3901012 non-null int64\n",
      "cig1_r          3901012 non-null int64\n",
      "cig2_r          3901012 non-null int64\n",
      "cig3_r          3901012 non-null int64\n",
      "cig_rec         3901012 non-null object\n",
      "m_ht_in         3901012 non-null int64\n",
      "bmi             3901012 non-null float64\n",
      "bmi_r           3901012 non-null int64\n",
      "pwgt_r          3901012 non-null int64\n",
      "wtgain          3901012 non-null int64\n",
      "wtgain_rec      3901012 non-null int64\n",
      "dwgt_r          3901012 non-null int64\n",
      "rf_pdiab        3901012 non-null object\n",
      "rf_gdiab        3901012 non-null object\n",
      "rf_phype        3901012 non-null object\n",
      "rf_ghype        3901012 non-null object\n",
      "rf_ehype        3901012 non-null object\n",
      "rf_ppterm       3901012 non-null object\n",
      "rf_inftr        3901012 non-null object\n",
      "rf_fedrg        3901012 non-null object\n",
      "rf_artec        3901012 non-null object\n",
      "rf_cesar        3901012 non-null object\n",
      "rf_cesarn       3901012 non-null int64\n",
      "no_risks        3901012 non-null int64\n",
      "ip_gon          3901012 non-null object\n",
      "ip_syph         3901012 non-null object\n",
      "ip_chlam        3901012 non-null object\n",
      "ip_hepatb       3901012 non-null object\n",
      "ip_hepatc       3901012 non-null object\n",
      "no_infec        3901012 non-null int64\n",
      "pay_rec         3901012 non-null int64\n",
      "dplural         3901012 non-null int64\n",
      "sex             3901012 non-null object\n",
      "dlmp_yy         3901012 non-null int64\n",
      "combgest        3901012 non-null int64\n",
      "gestrec10       3901012 non-null int64\n",
      "gestrec3        3901012 non-null int64\n",
      "oegest_comb     3901012 non-null int64\n",
      "oegest_r10      3901012 non-null int64\n",
      "oegest_r3       3901012 non-null int64\n",
      "ob_ecvf         3901012 non-null object\n",
      "ld_indl         3901012 non-null object\n",
      "ld_augm         3901012 non-null object\n",
      "ld_chor         3901012 non-null object\n",
      "me_pres         3901012 non-null int64\n",
      "me_rout         3901012 non-null int64\n",
      "rdmeth_rec      3901012 non-null int64\n",
      "dmeth_rec       3901012 non-null int64\n",
      "me_trial        3901012 non-null object\n",
      "mm_rupt         3901012 non-null object\n",
      "mm_uhyst        3901012 non-null object\n",
      "mm_aicu         3901012 non-null object\n",
      "no_mmorb        3901012 non-null int64\n",
      "apgar5          3901012 non-null int64\n",
      "apgar5r         3901012 non-null float64\n",
      "dbwt            3901012 non-null int64\n",
      "bwtr12          3901012 non-null int64\n",
      "bwtr4           3901012 non-null int64\n",
      "ab_aven1        3901012 non-null object\n",
      "ab_aven6        3901012 non-null object\n",
      "ab_nicu         3901012 non-null object\n",
      "ab_surf         3901012 non-null object\n",
      "ab_anti         3901012 non-null object\n",
      "ab_seiz         3901012 non-null object\n",
      "no_abnorm       3901012 non-null int64\n",
      "ilive           3901012 non-null object\n",
      "f_facility      3901012 non-null int64\n",
      "mage_impflg     187 non-null float64\n",
      "mage_repflg     164 non-null float64\n",
      "mraceimp        235988 non-null float64\n",
      "f_mhisp         3901012 non-null int64\n",
      "mar_imp         1757 non-null float64\n",
      "f_mar_p         3901012 non-null int64\n",
      "f_meduc         3901012 non-null int64\n",
      "fagerpt_flg     5080 non-null float64\n",
      "f_fhisp         3901012 non-null int64\n",
      "f_mpcb          3901012 non-null int64\n",
      "f_tpcv          3901012 non-null int64\n",
      "f_wic           3901012 non-null int64\n",
      "f_cigs_0        3901012 non-null int64\n",
      "f_cigs_1        3901012 non-null int64\n",
      "f_cigs_2        3901012 non-null int64\n",
      "f_cigs_3        3901012 non-null int64\n",
      "f_tobaco        3901012 non-null int64\n",
      "f_m_ht          3901012 non-null int64\n",
      "f_pwgt          3901012 non-null int64\n",
      "f_dwgt          3901012 non-null int64\n",
      "f_wtgain        3901012 non-null int64\n",
      "f_rf_pdiab      3901012 non-null int64\n",
      "f_rf_gdiab      3901012 non-null int64\n",
      "f_rf_phyper     3901012 non-null int64\n",
      "f_rf_ghyper     3901012 non-null int64\n",
      "f_rf_eclamp     3901012 non-null int64\n",
      "f_rf_ppb        3901012 non-null int64\n",
      "f_rf_inf_drg    3901012 non-null int64\n",
      "f_rf_inf_art    3901012 non-null int64\n",
      "f_rf_cesar      3901012 non-null int64\n",
      "f_rf_ncesar     3901012 non-null int64\n",
      "f_ip_gonor      3901012 non-null int64\n",
      "f_ip_syph       3901012 non-null int64\n",
      "f_ip_chlam      3901012 non-null int64\n",
      "f_ip_hepatb     3901012 non-null int64\n",
      "f_ip_hepatc     3901012 non-null int64\n",
      "f_pay_rec       3901012 non-null int64\n",
      "imp_plur        91 non-null float64\n",
      "imp_sex         72 non-null float64\n",
      "obgest_flg      214294 non-null float64\n",
      "risky0          3901012 non-null int64\n",
      "dtypes: float64(10), int64(108), object(34)\n",
      "memory usage: 4.4+ GB\n"
     ]
    }
   ],
   "source": [
    "births_df.info(True, null_counts = True)"
   ]
  },
  {
   "cell_type": "code",
   "execution_count": 85,
   "metadata": {
    "collapsed": true
   },
   "outputs": [],
   "source": [
    "#go back and recode unknowns later"
   ]
  },
  {
   "cell_type": "code",
   "execution_count": 86,
   "metadata": {
    "collapsed": true
   },
   "outputs": [],
   "source": [
    "features0 = (['dob_mm', 'bfacil3', 'mager9', 'mbstate_rec', 'restatus', 'mbrace',\n",
    "             'mhisp_r', 'mar_p', 'dmar', 'meduc', 'fagerec11', 'fbrace', 'fhisp_r', 'feduc',\n",
    "              'priordead', 'priorterm','tbo_rec', 'illb_r11', 'precare5', 'previs_rec', 'wic', \n",
    "             'cig0_r', 'cig1_r', 'cig2_r', 'cig3_r','bmi_r', 'wtgain_rec', 'rf_pdiab',\n",
    "             'rf_gdiab', 'rf_phype', 'rf_ghype', 'rf_ehype', 'rf_ppterm', 'rf_inftr', 'rf_fedrg', \n",
    "             'rf_artec', 'rf_cesar', 'no_risks', 'ip_gon', 'ip_syph', 'ip_chlam', 'ip_hepatb', \n",
    "              'ip_hepatc', 'no_infec', 'pay_rec', 'dplural', 'dlmp_yy', 'gestrec10', 'risky0'])"
   ]
  },
  {
   "cell_type": "code",
   "execution_count": 87,
   "metadata": {},
   "outputs": [],
   "source": [
    "births_df0 = births_df[features0]"
   ]
  },
  {
   "cell_type": "code",
   "execution_count": 88,
   "metadata": {},
   "outputs": [
    {
     "data": {
      "text/plain": [
       "dob_mm         0\n",
       "bfacil3        0\n",
       "mager9         0\n",
       "mbstate_rec    0\n",
       "restatus       0\n",
       "mbrace         0\n",
       "mhisp_r        0\n",
       "mar_p          0\n",
       "dmar           0\n",
       "meduc          0\n",
       "fagerec11      0\n",
       "fbrace         0\n",
       "fhisp_r        0\n",
       "feduc          0\n",
       "priordead      0\n",
       "priorterm      0\n",
       "tbo_rec        0\n",
       "illb_r11       0\n",
       "precare5       0\n",
       "previs_rec     0\n",
       "wic            0\n",
       "cig0_r         0\n",
       "cig1_r         0\n",
       "cig2_r         0\n",
       "cig3_r         0\n",
       "bmi_r          0\n",
       "wtgain_rec     0\n",
       "rf_pdiab       0\n",
       "rf_gdiab       0\n",
       "rf_phype       0\n",
       "rf_ghype       0\n",
       "rf_ehype       0\n",
       "rf_ppterm      0\n",
       "rf_inftr       0\n",
       "rf_fedrg       0\n",
       "rf_artec       0\n",
       "rf_cesar       0\n",
       "no_risks       0\n",
       "ip_gon         0\n",
       "ip_syph        0\n",
       "ip_chlam       0\n",
       "ip_hepatb      0\n",
       "ip_hepatc      0\n",
       "no_infec       0\n",
       "pay_rec        0\n",
       "dplural        0\n",
       "dlmp_yy        0\n",
       "gestrec10      0\n",
       "risky0         0\n",
       "dtype: int64"
      ]
     },
     "execution_count": 88,
     "metadata": {},
     "output_type": "execute_result"
    }
   ],
   "source": [
    "births_df0.isnull().sum()"
   ]
  },
  {
   "cell_type": "code",
   "execution_count": 89,
   "metadata": {
    "collapsed": true
   },
   "outputs": [],
   "source": [
    "births_df0.to_pickle('births_df0.pickle')"
   ]
  },
  {
   "cell_type": "code",
   "execution_count": 90,
   "metadata": {
    "collapsed": true
   },
   "outputs": [],
   "source": [
    "births_df = pd.read_pickle('births_df0.pickle')"
   ]
  },
  {
   "cell_type": "code",
   "execution_count": 91,
   "metadata": {},
   "outputs": [],
   "source": [
    "births_df.tbo_rec.replace(to_replace = [4, 5, 6, 7, 8], value = 3, inplace = True)"
   ]
  },
  {
   "cell_type": "code",
   "execution_count": 92,
   "metadata": {
    "collapsed": true
   },
   "outputs": [],
   "source": [
    "births_df.priordead.replace(to_replace = [7, 5, 4, 6, 9, 11, 10, 20, 29, 8, 12, 13], value = 3, inplace = True)"
   ]
  },
  {
   "cell_type": "code",
   "execution_count": 93,
   "metadata": {
    "collapsed": true
   },
   "outputs": [],
   "source": [
    "births_df.priorterm.replace(to_replace = [4, 6, 8, 5, 7, 9, 24, 15, 10, 13, 16, 12, 14, 11, 17, 20, 26, 19, 18, 28, 25, 22, 21, 23, 27], value = 3, inplace = True)"
   ]
  },
  {
   "cell_type": "code",
   "execution_count": 94,
   "metadata": {},
   "outputs": [
    {
     "data": {
      "text/plain": [
       "array([2015, 9999, 2016, 2014])"
      ]
     },
     "execution_count": 94,
     "metadata": {},
     "output_type": "execute_result"
    }
   ],
   "source": [
    "births_df.dlmp_yy.unique()"
   ]
  },
  {
   "cell_type": "code",
   "execution_count": 95,
   "metadata": {
    "collapsed": true
   },
   "outputs": [],
   "source": [
    "births_df_dummies = pd.get_dummies(births_df, columns=['dob_mm', 'bfacil3', \n",
    "                                                             'mager9', 'mbstate_rec', \n",
    "                                                             'restatus', 'mbrace', 'mhisp_r', \n",
    "                                                             'mar_p', 'dmar', 'meduc', \n",
    "                                                             'fagerec11', 'fbrace', 'fhisp_r', \n",
    "                                                             'feduc', 'priordead', 'priorterm', \n",
    "                                                             'tbo_rec', 'illb_r11', 'precare5',\n",
    "                                                             'previs_rec', 'wic', 'cig0_r', \n",
    "                                                             'cig1_r', 'cig2_r', 'cig3_r',\n",
    "                                                             'bmi_r', 'wtgain_rec', \n",
    "                                                             'rf_pdiab', 'rf_gdiab', 'rf_phype',\n",
    "                                                             'rf_ghype', 'rf_ehype', 'rf_ppterm',\n",
    "                                                             'rf_inftr', 'rf_fedrg', 'rf_artec',\n",
    "                                                             'rf_cesar', 'no_risks', 'ip_gon',\n",
    "                                                             'ip_syph', 'ip_chlam', 'ip_hepatb',\n",
    "                                                             'ip_hepatc', 'no_infec', 'pay_rec',\n",
    "                                                             'dplural', 'dlmp_yy', 'gestrec10'])"
   ]
  },
  {
   "cell_type": "code",
   "execution_count": 96,
   "metadata": {},
   "outputs": [
    {
     "name": "stdout",
     "output_type": "stream",
     "text": [
      "<class 'pandas.core.frame.DataFrame'>\n",
      "Int64Index: 3901012 entries, 0 to 3956110\n",
      "Data columns (total 254 columns):\n",
      "risky0           int64\n",
      "dob_mm_1         uint8\n",
      "dob_mm_2         uint8\n",
      "dob_mm_3         uint8\n",
      "dob_mm_4         uint8\n",
      "dob_mm_5         uint8\n",
      "dob_mm_6         uint8\n",
      "dob_mm_7         uint8\n",
      "dob_mm_8         uint8\n",
      "dob_mm_9         uint8\n",
      "dob_mm_10        uint8\n",
      "dob_mm_11        uint8\n",
      "dob_mm_12        uint8\n",
      "bfacil3_1        uint8\n",
      "bfacil3_2        uint8\n",
      "bfacil3_3        uint8\n",
      "mager9_1         uint8\n",
      "mager9_2         uint8\n",
      "mager9_3         uint8\n",
      "mager9_4         uint8\n",
      "mager9_5         uint8\n",
      "mager9_6         uint8\n",
      "mager9_7         uint8\n",
      "mager9_8         uint8\n",
      "mager9_9         uint8\n",
      "mbstate_rec_1    uint8\n",
      "mbstate_rec_2    uint8\n",
      "mbstate_rec_3    uint8\n",
      "restatus_1       uint8\n",
      "restatus_2       uint8\n",
      "restatus_3       uint8\n",
      "restatus_4       uint8\n",
      "mbrace_1         uint8\n",
      "mbrace_2         uint8\n",
      "mbrace_3         uint8\n",
      "mbrace_4         uint8\n",
      "mhisp_r_0        uint8\n",
      "mhisp_r_1        uint8\n",
      "mhisp_r_2        uint8\n",
      "mhisp_r_3        uint8\n",
      "mhisp_r_4        uint8\n",
      "mhisp_r_5        uint8\n",
      "mhisp_r_9        uint8\n",
      "mar_p_N          uint8\n",
      "mar_p_U          uint8\n",
      "mar_p_X          uint8\n",
      "mar_p_Y          uint8\n",
      "dmar_1           uint8\n",
      "dmar_2           uint8\n",
      "meduc_1          uint8\n",
      "meduc_2          uint8\n",
      "meduc_3          uint8\n",
      "meduc_4          uint8\n",
      "meduc_5          uint8\n",
      "meduc_6          uint8\n",
      "meduc_7          uint8\n",
      "meduc_8          uint8\n",
      "meduc_9          uint8\n",
      "fagerec11_1      uint8\n",
      "fagerec11_2      uint8\n",
      "fagerec11_3      uint8\n",
      "fagerec11_4      uint8\n",
      "fagerec11_5      uint8\n",
      "fagerec11_6      uint8\n",
      "fagerec11_7      uint8\n",
      "fagerec11_8      uint8\n",
      "fagerec11_9      uint8\n",
      "fagerec11_10     uint8\n",
      "fagerec11_11     uint8\n",
      "fbrace_1         uint8\n",
      "fbrace_2         uint8\n",
      "fbrace_3         uint8\n",
      "fbrace_4         uint8\n",
      "fbrace_9         uint8\n",
      "fhisp_r_0        uint8\n",
      "fhisp_r_1        uint8\n",
      "fhisp_r_2        uint8\n",
      "fhisp_r_3        uint8\n",
      "fhisp_r_4        uint8\n",
      "fhisp_r_5        uint8\n",
      "fhisp_r_9        uint8\n",
      "feduc_1          uint8\n",
      "feduc_2          uint8\n",
      "feduc_3          uint8\n",
      "feduc_4          uint8\n",
      "feduc_5          uint8\n",
      "feduc_6          uint8\n",
      "feduc_7          uint8\n",
      "feduc_8          uint8\n",
      "feduc_9          uint8\n",
      "priordead_0      uint8\n",
      "priordead_1      uint8\n",
      "priordead_2      uint8\n",
      "priordead_3      uint8\n",
      "priordead_99     uint8\n",
      "priorterm_0      uint8\n",
      "priorterm_1      uint8\n",
      "priorterm_2      uint8\n",
      "priorterm_3      uint8\n",
      "priorterm_99     uint8\n",
      "tbo_rec_1        uint8\n",
      "tbo_rec_2        uint8\n",
      "tbo_rec_3        uint8\n",
      "tbo_rec_9        uint8\n",
      "illb_r11_0       uint8\n",
      "illb_r11_1       uint8\n",
      "illb_r11_2       uint8\n",
      "illb_r11_3       uint8\n",
      "illb_r11_4       uint8\n",
      "illb_r11_5       uint8\n",
      "illb_r11_6       uint8\n",
      "illb_r11_7       uint8\n",
      "illb_r11_8       uint8\n",
      "illb_r11_88      uint8\n",
      "illb_r11_99      uint8\n",
      "precare5_1       uint8\n",
      "precare5_2       uint8\n",
      "precare5_3       uint8\n",
      "precare5_4       uint8\n",
      "precare5_5       uint8\n",
      "previs_rec_1     uint8\n",
      "previs_rec_2     uint8\n",
      "previs_rec_3     uint8\n",
      "previs_rec_4     uint8\n",
      "previs_rec_5     uint8\n",
      "previs_rec_6     uint8\n",
      "previs_rec_7     uint8\n",
      "previs_rec_8     uint8\n",
      "previs_rec_9     uint8\n",
      "previs_rec_10    uint8\n",
      "previs_rec_11    uint8\n",
      "previs_rec_12    uint8\n",
      "wic_N            uint8\n",
      "wic_U            uint8\n",
      "wic_Y            uint8\n",
      "cig0_r_0         uint8\n",
      "cig0_r_1         uint8\n",
      "cig0_r_2         uint8\n",
      "cig0_r_3         uint8\n",
      "cig0_r_4         uint8\n",
      "cig0_r_5         uint8\n",
      "cig0_r_6         uint8\n",
      "cig1_r_0         uint8\n",
      "cig1_r_1         uint8\n",
      "cig1_r_2         uint8\n",
      "cig1_r_3         uint8\n",
      "cig1_r_4         uint8\n",
      "cig1_r_5         uint8\n",
      "cig1_r_6         uint8\n",
      "cig2_r_0         uint8\n",
      "cig2_r_1         uint8\n",
      "cig2_r_2         uint8\n",
      "cig2_r_3         uint8\n",
      "cig2_r_4         uint8\n",
      "cig2_r_5         uint8\n",
      "cig2_r_6         uint8\n",
      "cig3_r_0         uint8\n",
      "cig3_r_1         uint8\n",
      "cig3_r_2         uint8\n",
      "cig3_r_3         uint8\n",
      "cig3_r_4         uint8\n",
      "cig3_r_5         uint8\n",
      "cig3_r_6         uint8\n",
      "bmi_r_1          uint8\n",
      "bmi_r_2          uint8\n",
      "bmi_r_3          uint8\n",
      "bmi_r_4          uint8\n",
      "bmi_r_5          uint8\n",
      "bmi_r_6          uint8\n",
      "bmi_r_9          uint8\n",
      "wtgain_rec_1     uint8\n",
      "wtgain_rec_2     uint8\n",
      "wtgain_rec_3     uint8\n",
      "wtgain_rec_4     uint8\n",
      "wtgain_rec_5     uint8\n",
      "wtgain_rec_9     uint8\n",
      "rf_pdiab_N       uint8\n",
      "rf_pdiab_U       uint8\n",
      "rf_pdiab_Y       uint8\n",
      "rf_gdiab_N       uint8\n",
      "rf_gdiab_U       uint8\n",
      "rf_gdiab_Y       uint8\n",
      "rf_phype_N       uint8\n",
      "rf_phype_U       uint8\n",
      "rf_phype_Y       uint8\n",
      "rf_ghype_N       uint8\n",
      "rf_ghype_U       uint8\n",
      "rf_ghype_Y       uint8\n",
      "rf_ehype_N       uint8\n",
      "rf_ehype_U       uint8\n",
      "rf_ehype_Y       uint8\n",
      "rf_ppterm_N      uint8\n",
      "rf_ppterm_U      uint8\n",
      "rf_ppterm_Y      uint8\n",
      "rf_inftr_N       uint8\n",
      "rf_inftr_U       uint8\n",
      "rf_inftr_Y       uint8\n",
      "rf_fedrg_N       uint8\n",
      "rf_fedrg_U       uint8\n",
      "rf_fedrg_X       uint8\n",
      "rf_fedrg_Y       uint8\n",
      "rf_artec_N       uint8\n",
      "rf_artec_U       uint8\n",
      "rf_artec_X       uint8\n",
      "rf_artec_Y       uint8\n",
      "rf_cesar_N       uint8\n",
      "rf_cesar_U       uint8\n",
      "rf_cesar_Y       uint8\n",
      "no_risks_0       uint8\n",
      "no_risks_1       uint8\n",
      "no_risks_9       uint8\n",
      "ip_gon_N         uint8\n",
      "ip_gon_U         uint8\n",
      "ip_gon_Y         uint8\n",
      "ip_syph_N        uint8\n",
      "ip_syph_U        uint8\n",
      "ip_syph_Y        uint8\n",
      "ip_chlam_N       uint8\n",
      "ip_chlam_U       uint8\n",
      "ip_chlam_Y       uint8\n",
      "ip_hepatb_N      uint8\n",
      "ip_hepatb_U      uint8\n",
      "ip_hepatb_Y      uint8\n",
      "ip_hepatc_N      uint8\n",
      "ip_hepatc_U      uint8\n",
      "ip_hepatc_Y      uint8\n",
      "no_infec_0       uint8\n",
      "no_infec_1       uint8\n",
      "no_infec_9       uint8\n",
      "pay_rec_1        uint8\n",
      "pay_rec_2        uint8\n",
      "pay_rec_3        uint8\n",
      "pay_rec_4        uint8\n",
      "pay_rec_9        uint8\n",
      "dplural_1        uint8\n",
      "dplural_2        uint8\n",
      "dplural_3        uint8\n",
      "dplural_4        uint8\n",
      "dplural_5        uint8\n",
      "dlmp_yy_2014     uint8\n",
      "dlmp_yy_2015     uint8\n",
      "dlmp_yy_2016     uint8\n",
      "dlmp_yy_9999     uint8\n",
      "gestrec10_1      uint8\n",
      "gestrec10_2      uint8\n",
      "gestrec10_3      uint8\n",
      "gestrec10_4      uint8\n",
      "gestrec10_5      uint8\n",
      "gestrec10_6      uint8\n",
      "gestrec10_7      uint8\n",
      "gestrec10_8      uint8\n",
      "gestrec10_9      uint8\n",
      "gestrec10_10     uint8\n",
      "gestrec10_99     uint8\n",
      "dtypes: int64(1), uint8(253)\n",
      "memory usage: 1000.8 MB\n"
     ]
    }
   ],
   "source": [
    "births_df_dummies.info(verbose = True)"
   ]
  },
  {
   "cell_type": "code",
   "execution_count": 97,
   "metadata": {},
   "outputs": [
    {
     "data": {
      "text/plain": [
       "(3901012, 254)"
      ]
     },
     "execution_count": 97,
     "metadata": {},
     "output_type": "execute_result"
    }
   ],
   "source": [
    "births_df_dummies.shape"
   ]
  },
  {
   "cell_type": "code",
   "execution_count": 98,
   "metadata": {},
   "outputs": [],
   "source": [
    "births_df_dummies.drop(['bfacil3_3', 'mbstate_rec_3', 'mhisp_r_9', 'mar_p_U', \n",
    "                                  'meduc_9', 'fagerec11_11', 'fbrace_9', 'fhisp_r_9', \n",
    "                                  'feduc_9', 'priordead_99', 'priorterm_99', 'tbo_rec_9', \n",
    "                                  'illb_r11_0', 'illb_r11_88', 'illb_r11_99', 'precare5_5',\n",
    "                                  'previs_rec_12', 'wic_U', 'cig0_r_6', 'cig1_r_6', 'cig2_r_6',\n",
    "                                  'cig3_r_6', 'bmi_r_9', 'wtgain_rec_9', 'rf_pdiab_U', 'rf_gdiab_U', \n",
    "                                  'rf_phype_U', 'rf_ghype_U', 'rf_ehype_U', 'rf_ppterm_U', 'rf_inftr_U',\n",
    "                                  'rf_fedrg_U','rf_artec_U', 'rf_cesar_U', 'no_risks_9', 'ip_gon_U', \n",
    "                                  'ip_syph_U', 'ip_chlam_U', 'ip_hepatb_U', 'ip_hepatc_U', 'no_infec_9',\n",
    "                                  'pay_rec_9' , 'dlmp_yy_9999', 'gestrec10_99'], axis = 1, inplace = True)     "
   ]
  },
  {
   "cell_type": "markdown",
   "metadata": {},
   "source": [
    "#### Get smaller version of dataset to play around with"
   ]
  },
  {
   "cell_type": "code",
   "execution_count": 99,
   "metadata": {},
   "outputs": [],
   "source": [
    "from sklearn.cross_validation import train_test_split\n",
    "from sklearn.utils import resample\n",
    "\n",
    "import warnings\n",
    "\n",
    "def fxn():\n",
    "    warnings.warn(\"deprecated\", DeprecationWarning)\n",
    "\n",
    "with warnings.catch_warnings():\n",
    "    warnings.simplefilter(\"ignore\")\n",
    "    fxn()"
   ]
  },
  {
   "cell_type": "code",
   "execution_count": 100,
   "metadata": {
    "collapsed": true
   },
   "outputs": [],
   "source": [
    "births_model, births_hold = train_test_split(births_df_dummies, test_size = .9, stratify = births_df['risky0'] )"
   ]
  },
  {
   "cell_type": "code",
   "execution_count": 101,
   "metadata": {
    "collapsed": true
   },
   "outputs": [],
   "source": [
    "births_hold.to_pickle('births_hold.pickle')"
   ]
  },
  {
   "cell_type": "code",
   "execution_count": 102,
   "metadata": {},
   "outputs": [
    {
     "name": "stdout",
     "output_type": "stream",
     "text": [
      "<class 'pandas.core.frame.DataFrame'>\n",
      "Int64Index: 390101 entries, 1824191 to 404053\n",
      "Columns: 210 entries, risky0 to gestrec10_10\n",
      "dtypes: int64(1), uint8(209)\n",
      "memory usage: 83.7 MB\n"
     ]
    }
   ],
   "source": [
    "births_model.info()"
   ]
  },
  {
   "cell_type": "code",
   "execution_count": 103,
   "metadata": {},
   "outputs": [
    {
     "data": {
      "text/html": [
       "<div>\n",
       "<style>\n",
       "    .dataframe thead tr:only-child th {\n",
       "        text-align: right;\n",
       "    }\n",
       "\n",
       "    .dataframe thead th {\n",
       "        text-align: left;\n",
       "    }\n",
       "\n",
       "    .dataframe tbody tr th {\n",
       "        vertical-align: top;\n",
       "    }\n",
       "</style>\n",
       "<table border=\"1\" class=\"dataframe\">\n",
       "  <thead>\n",
       "    <tr style=\"text-align: right;\">\n",
       "      <th></th>\n",
       "      <th>dob_mm</th>\n",
       "      <th>bfacil3</th>\n",
       "      <th>mager9</th>\n",
       "      <th>mbstate_rec</th>\n",
       "      <th>restatus</th>\n",
       "      <th>mbrace</th>\n",
       "      <th>mhisp_r</th>\n",
       "      <th>mar_p</th>\n",
       "      <th>dmar</th>\n",
       "      <th>meduc</th>\n",
       "      <th>...</th>\n",
       "      <th>ip_gon</th>\n",
       "      <th>ip_syph</th>\n",
       "      <th>ip_chlam</th>\n",
       "      <th>ip_hepatb</th>\n",
       "      <th>ip_hepatc</th>\n",
       "      <th>no_infec</th>\n",
       "      <th>pay_rec</th>\n",
       "      <th>dplural</th>\n",
       "      <th>dlmp_yy</th>\n",
       "      <th>gestrec10</th>\n",
       "    </tr>\n",
       "    <tr>\n",
       "      <th>risky0</th>\n",
       "      <th></th>\n",
       "      <th></th>\n",
       "      <th></th>\n",
       "      <th></th>\n",
       "      <th></th>\n",
       "      <th></th>\n",
       "      <th></th>\n",
       "      <th></th>\n",
       "      <th></th>\n",
       "      <th></th>\n",
       "      <th></th>\n",
       "      <th></th>\n",
       "      <th></th>\n",
       "      <th></th>\n",
       "      <th></th>\n",
       "      <th></th>\n",
       "      <th></th>\n",
       "      <th></th>\n",
       "      <th></th>\n",
       "      <th></th>\n",
       "      <th></th>\n",
       "    </tr>\n",
       "  </thead>\n",
       "  <tbody>\n",
       "    <tr>\n",
       "      <th>0</th>\n",
       "      <td>3429496</td>\n",
       "      <td>3429496</td>\n",
       "      <td>3429496</td>\n",
       "      <td>3429496</td>\n",
       "      <td>3429496</td>\n",
       "      <td>3429496</td>\n",
       "      <td>3429496</td>\n",
       "      <td>3429496</td>\n",
       "      <td>3429496</td>\n",
       "      <td>3429496</td>\n",
       "      <td>...</td>\n",
       "      <td>3429496</td>\n",
       "      <td>3429496</td>\n",
       "      <td>3429496</td>\n",
       "      <td>3429496</td>\n",
       "      <td>3429496</td>\n",
       "      <td>3429496</td>\n",
       "      <td>3429496</td>\n",
       "      <td>3429496</td>\n",
       "      <td>3429496</td>\n",
       "      <td>3429496</td>\n",
       "    </tr>\n",
       "    <tr>\n",
       "      <th>1</th>\n",
       "      <td>471516</td>\n",
       "      <td>471516</td>\n",
       "      <td>471516</td>\n",
       "      <td>471516</td>\n",
       "      <td>471516</td>\n",
       "      <td>471516</td>\n",
       "      <td>471516</td>\n",
       "      <td>471516</td>\n",
       "      <td>471516</td>\n",
       "      <td>471516</td>\n",
       "      <td>...</td>\n",
       "      <td>471516</td>\n",
       "      <td>471516</td>\n",
       "      <td>471516</td>\n",
       "      <td>471516</td>\n",
       "      <td>471516</td>\n",
       "      <td>471516</td>\n",
       "      <td>471516</td>\n",
       "      <td>471516</td>\n",
       "      <td>471516</td>\n",
       "      <td>471516</td>\n",
       "    </tr>\n",
       "  </tbody>\n",
       "</table>\n",
       "<p>2 rows × 48 columns</p>\n",
       "</div>"
      ],
      "text/plain": [
       "         dob_mm  bfacil3   mager9  mbstate_rec  restatus   mbrace  mhisp_r  \\\n",
       "risky0                                                                       \n",
       "0       3429496  3429496  3429496      3429496   3429496  3429496  3429496   \n",
       "1        471516   471516   471516       471516    471516   471516   471516   \n",
       "\n",
       "          mar_p     dmar    meduc    ...       ip_gon  ip_syph  ip_chlam  \\\n",
       "risky0                               ...                                   \n",
       "0       3429496  3429496  3429496    ...      3429496  3429496   3429496   \n",
       "1        471516   471516   471516    ...       471516   471516    471516   \n",
       "\n",
       "        ip_hepatb  ip_hepatc  no_infec  pay_rec  dplural  dlmp_yy  gestrec10  \n",
       "risky0                                                                        \n",
       "0         3429496    3429496   3429496  3429496  3429496  3429496    3429496  \n",
       "1          471516     471516    471516   471516   471516   471516     471516  \n",
       "\n",
       "[2 rows x 48 columns]"
      ]
     },
     "execution_count": 103,
     "metadata": {},
     "output_type": "execute_result"
    }
   ],
   "source": [
    "births_df.groupby('risky0').count()"
   ]
  },
  {
   "cell_type": "code",
   "execution_count": 104,
   "metadata": {},
   "outputs": [
    {
     "name": "stdout",
     "output_type": "stream",
     "text": [
      "0.1374884239550068\n"
     ]
    }
   ],
   "source": [
    "print(471516/3429496)"
   ]
  },
  {
   "cell_type": "code",
   "execution_count": 105,
   "metadata": {},
   "outputs": [
    {
     "data": {
      "text/html": [
       "<div>\n",
       "<style>\n",
       "    .dataframe thead tr:only-child th {\n",
       "        text-align: right;\n",
       "    }\n",
       "\n",
       "    .dataframe thead th {\n",
       "        text-align: left;\n",
       "    }\n",
       "\n",
       "    .dataframe tbody tr th {\n",
       "        vertical-align: top;\n",
       "    }\n",
       "</style>\n",
       "<table border=\"1\" class=\"dataframe\">\n",
       "  <thead>\n",
       "    <tr style=\"text-align: right;\">\n",
       "      <th></th>\n",
       "      <th>dob_mm_1</th>\n",
       "      <th>dob_mm_2</th>\n",
       "      <th>dob_mm_3</th>\n",
       "      <th>dob_mm_4</th>\n",
       "      <th>dob_mm_5</th>\n",
       "      <th>dob_mm_6</th>\n",
       "      <th>dob_mm_7</th>\n",
       "      <th>dob_mm_8</th>\n",
       "      <th>dob_mm_9</th>\n",
       "      <th>dob_mm_10</th>\n",
       "      <th>...</th>\n",
       "      <th>gestrec10_1</th>\n",
       "      <th>gestrec10_2</th>\n",
       "      <th>gestrec10_3</th>\n",
       "      <th>gestrec10_4</th>\n",
       "      <th>gestrec10_5</th>\n",
       "      <th>gestrec10_6</th>\n",
       "      <th>gestrec10_7</th>\n",
       "      <th>gestrec10_8</th>\n",
       "      <th>gestrec10_9</th>\n",
       "      <th>gestrec10_10</th>\n",
       "    </tr>\n",
       "    <tr>\n",
       "      <th>risky0</th>\n",
       "      <th></th>\n",
       "      <th></th>\n",
       "      <th></th>\n",
       "      <th></th>\n",
       "      <th></th>\n",
       "      <th></th>\n",
       "      <th></th>\n",
       "      <th></th>\n",
       "      <th></th>\n",
       "      <th></th>\n",
       "      <th></th>\n",
       "      <th></th>\n",
       "      <th></th>\n",
       "      <th></th>\n",
       "      <th></th>\n",
       "      <th></th>\n",
       "      <th></th>\n",
       "      <th></th>\n",
       "      <th></th>\n",
       "      <th></th>\n",
       "      <th></th>\n",
       "    </tr>\n",
       "  </thead>\n",
       "  <tbody>\n",
       "    <tr>\n",
       "      <th>0</th>\n",
       "      <td>342949</td>\n",
       "      <td>342949</td>\n",
       "      <td>342949</td>\n",
       "      <td>342949</td>\n",
       "      <td>342949</td>\n",
       "      <td>342949</td>\n",
       "      <td>342949</td>\n",
       "      <td>342949</td>\n",
       "      <td>342949</td>\n",
       "      <td>342949</td>\n",
       "      <td>...</td>\n",
       "      <td>342949</td>\n",
       "      <td>342949</td>\n",
       "      <td>342949</td>\n",
       "      <td>342949</td>\n",
       "      <td>342949</td>\n",
       "      <td>342949</td>\n",
       "      <td>342949</td>\n",
       "      <td>342949</td>\n",
       "      <td>342949</td>\n",
       "      <td>342949</td>\n",
       "    </tr>\n",
       "    <tr>\n",
       "      <th>1</th>\n",
       "      <td>47152</td>\n",
       "      <td>47152</td>\n",
       "      <td>47152</td>\n",
       "      <td>47152</td>\n",
       "      <td>47152</td>\n",
       "      <td>47152</td>\n",
       "      <td>47152</td>\n",
       "      <td>47152</td>\n",
       "      <td>47152</td>\n",
       "      <td>47152</td>\n",
       "      <td>...</td>\n",
       "      <td>47152</td>\n",
       "      <td>47152</td>\n",
       "      <td>47152</td>\n",
       "      <td>47152</td>\n",
       "      <td>47152</td>\n",
       "      <td>47152</td>\n",
       "      <td>47152</td>\n",
       "      <td>47152</td>\n",
       "      <td>47152</td>\n",
       "      <td>47152</td>\n",
       "    </tr>\n",
       "  </tbody>\n",
       "</table>\n",
       "<p>2 rows × 209 columns</p>\n",
       "</div>"
      ],
      "text/plain": [
       "        dob_mm_1  dob_mm_2  dob_mm_3  dob_mm_4  dob_mm_5  dob_mm_6  dob_mm_7  \\\n",
       "risky0                                                                         \n",
       "0         342949    342949    342949    342949    342949    342949    342949   \n",
       "1          47152     47152     47152     47152     47152     47152     47152   \n",
       "\n",
       "        dob_mm_8  dob_mm_9  dob_mm_10      ...       gestrec10_1  gestrec10_2  \\\n",
       "risky0                                     ...                                  \n",
       "0         342949    342949     342949      ...            342949       342949   \n",
       "1          47152     47152      47152      ...             47152        47152   \n",
       "\n",
       "        gestrec10_3  gestrec10_4  gestrec10_5  gestrec10_6  gestrec10_7  \\\n",
       "risky0                                                                    \n",
       "0            342949       342949       342949       342949       342949   \n",
       "1             47152        47152        47152        47152        47152   \n",
       "\n",
       "        gestrec10_8  gestrec10_9  gestrec10_10  \n",
       "risky0                                          \n",
       "0            342949       342949        342949  \n",
       "1             47152        47152         47152  \n",
       "\n",
       "[2 rows x 209 columns]"
      ]
     },
     "execution_count": 105,
     "metadata": {},
     "output_type": "execute_result"
    }
   ],
   "source": [
    "births_model.groupby('risky0').count()"
   ]
  },
  {
   "cell_type": "code",
   "execution_count": 106,
   "metadata": {
    "collapsed": true
   },
   "outputs": [],
   "source": [
    "births_mtrain, births_mtest = train_test_split(births_model, test_size = .3, stratify= births_model['risky0'], random_state = 42)"
   ]
  },
  {
   "cell_type": "code",
   "execution_count": 107,
   "metadata": {
    "collapsed": true
   },
   "outputs": [],
   "source": [
    "births_risky = births_mtrain[births_mtrain.risky0 == 1]"
   ]
  },
  {
   "cell_type": "code",
   "execution_count": 108,
   "metadata": {
    "collapsed": true
   },
   "outputs": [],
   "source": [
    "births_notrisky = births_mtrain[births_mtrain.risky0 != 1]"
   ]
  },
  {
   "cell_type": "code",
   "execution_count": 109,
   "metadata": {},
   "outputs": [
    {
     "data": {
      "text/plain": [
       "(33006, 210)"
      ]
     },
     "execution_count": 109,
     "metadata": {},
     "output_type": "execute_result"
    }
   ],
   "source": [
    "births_risky.shape"
   ]
  },
  {
   "cell_type": "code",
   "execution_count": 110,
   "metadata": {},
   "outputs": [
    {
     "data": {
      "text/plain": [
       "(240064, 210)"
      ]
     },
     "execution_count": 110,
     "metadata": {},
     "output_type": "execute_result"
    }
   ],
   "source": [
    "births_notrisky.shape"
   ]
  },
  {
   "cell_type": "code",
   "execution_count": 111,
   "metadata": {},
   "outputs": [
    {
     "data": {
      "text/plain": [
       "136535.0"
      ]
     },
     "execution_count": 111,
     "metadata": {},
     "output_type": "execute_result"
    }
   ],
   "source": [
    "np.mean([33006, 240064])"
   ]
  },
  {
   "cell_type": "code",
   "execution_count": 112,
   "metadata": {
    "collapsed": true
   },
   "outputs": [],
   "source": [
    "births_risky_res = resample(births_risky, \n",
    "                            n_samples = int(np.mean([len(births_risky), len(births_notrisky)])),\n",
    "                            random_state = 42)\n",
    "births_notrisky_res = resample(births_notrisky,\n",
    "                              n_samples = int(np.mean([len(births_risky), len(births_notrisky)])),\n",
    "                              random_state = 42)"
   ]
  },
  {
   "cell_type": "code",
   "execution_count": 113,
   "metadata": {},
   "outputs": [
    {
     "data": {
      "text/plain": [
       "(136535, 210)"
      ]
     },
     "execution_count": 113,
     "metadata": {},
     "output_type": "execute_result"
    }
   ],
   "source": [
    "births_risky_res.shape"
   ]
  },
  {
   "cell_type": "code",
   "execution_count": 114,
   "metadata": {},
   "outputs": [
    {
     "data": {
      "text/plain": [
       "(136535, 210)"
      ]
     },
     "execution_count": 114,
     "metadata": {},
     "output_type": "execute_result"
    }
   ],
   "source": [
    "births_notrisky_res.shape"
   ]
  },
  {
   "cell_type": "code",
   "execution_count": 115,
   "metadata": {
    "collapsed": true
   },
   "outputs": [],
   "source": [
    "res = [births_risky_res, births_notrisky_res]"
   ]
  },
  {
   "cell_type": "code",
   "execution_count": 116,
   "metadata": {
    "collapsed": true
   },
   "outputs": [],
   "source": [
    "births_mtrain_res = pd.concat(res)"
   ]
  },
  {
   "cell_type": "code",
   "execution_count": 117,
   "metadata": {},
   "outputs": [
    {
     "data": {
      "text/plain": [
       "(273070, 210)"
      ]
     },
     "execution_count": 117,
     "metadata": {},
     "output_type": "execute_result"
    }
   ],
   "source": [
    "births_mtrain_res.shape"
   ]
  },
  {
   "cell_type": "code",
   "execution_count": 118,
   "metadata": {
    "collapsed": true
   },
   "outputs": [],
   "source": [
    "y_mtrain_res = births_mtrain_res['risky0']"
   ]
  },
  {
   "cell_type": "code",
   "execution_count": 119,
   "metadata": {
    "collapsed": true
   },
   "outputs": [],
   "source": [
    "y_mtest = births_mtest['risky0']"
   ]
  },
  {
   "cell_type": "code",
   "execution_count": 120,
   "metadata": {
    "collapsed": true
   },
   "outputs": [],
   "source": [
    "X_mtrain_res = births_mtrain_res.drop('risky0', axis=1)"
   ]
  },
  {
   "cell_type": "code",
   "execution_count": 121,
   "metadata": {
    "collapsed": true
   },
   "outputs": [],
   "source": [
    "X_mtest = births_mtest.drop('risky0', axis=1)"
   ]
  },
  {
   "cell_type": "code",
   "execution_count": 122,
   "metadata": {
    "collapsed": true
   },
   "outputs": [],
   "source": [
    "y_mtrain_res.to_pickle('y_mtrain_res.pickle')"
   ]
  },
  {
   "cell_type": "code",
   "execution_count": 123,
   "metadata": {
    "collapsed": true
   },
   "outputs": [],
   "source": [
    "y_mtest.to_pickle('y_mtest.pickle')"
   ]
  },
  {
   "cell_type": "code",
   "execution_count": 124,
   "metadata": {
    "collapsed": true
   },
   "outputs": [],
   "source": [
    "X_mtrain_res.to_pickle('X_mtrain_res.pickle')"
   ]
  },
  {
   "cell_type": "code",
   "execution_count": 125,
   "metadata": {
    "collapsed": true
   },
   "outputs": [],
   "source": [
    "X_mtest.to_pickle('X_mtest.pickle')"
   ]
  },
  {
   "cell_type": "markdown",
   "metadata": {
    "collapsed": true
   },
   "source": [
    "### Data Visualizations"
   ]
  },
  {
   "cell_type": "code",
   "execution_count": 4,
   "metadata": {},
   "outputs": [
    {
     "data": {
      "text/plain": [
       "<matplotlib.axes._subplots.AxesSubplot at 0x7fc6799a4240>"
      ]
     },
     "execution_count": 4,
     "metadata": {},
     "output_type": "execute_result"
    },
    {
     "data": {
      "image/png": "[encoded data removed]",
      "text/plain": [
       "<matplotlib.figure.Figure at 0x7fc67999cdd8>"
      ]
     },
     "metadata": {},
     "output_type": "display_data"
    }
   ],
   "source": [
    "births_df.risky0.hist()"
   ]
  },
  {
   "cell_type": "code",
   "execution_count": 4,
   "metadata": {},
   "outputs": [
    {
     "data": {
      "text/plain": [
       "<matplotlib.axes._subplots.AxesSubplot at 0x7fce2830a470>"
      ]
     },
     "execution_count": 4,
     "metadata": {},
     "output_type": "execute_result"
    },
    {
     "data": {
      "image/png": "[encoded data removed]",
      "text/plain": [
       "<matplotlib.figure.Figure at 0x7fce580400f0>"
      ]
     },
     "metadata": {},
     "output_type": "display_data"
    }
   ],
   "source": [
    "births_df.mager14.hist()"
   ]
  },
  {
   "cell_type": "code",
   "execution_count": 25,
   "metadata": {
    "collapsed": true
   },
   "outputs": [],
   "source": [
    "age_risky = births_df[births_df.risky0 == 1].groupby(['mager14', 'risky0']).risky0.count()"
   ]
  },
  {
   "cell_type": "code",
   "execution_count": null,
   "metadata": {
    "collapsed": true
   },
   "outputs": [],
   "source": [
    "age_notrisky = births_df[births_df.risky0 == 0].groupby(['mager14', 'risky0']).risky0.count()"
   ]
  },
  {
   "cell_type": "code",
   "execution_count": null,
   "metadata": {
    "collapsed": true
   },
   "outputs": [],
   "source": [
    "births_df.mager14.count()"
   ]
  },
  {
   "cell_type": "code",
   "execution_count": 7,
   "metadata": {},
   "outputs": [
    {
     "data": {
      "image/png": "[encoded data removed]",
      "text/plain": [
       "<matplotlib.figure.Figure at 0x7fce1e629278>"
      ]
     },
     "metadata": {},
     "output_type": "display_data"
    }
   ],
   "source": [
    "years = np.arange(2010, 2015)\n",
    "values = [2, 5, 9, 5, 7]\n",
    "\n",
    "num_years = len(years)\n",
    "\n",
    "plt.barh(range(num_years),\n",
    "         values,\n",
    "         color='blue',\n",
    "         height=0.6,\n",
    "         align='center')\n",
    "\n",
    "plt.yticks(range(num_years),\n",
    "           [yr for yr in years]);"
   ]
  },
  {
   "cell_type": "code",
   "execution_count": null,
   "metadata": {
    "collapsed": true
   },
   "outputs": [],
   "source": []
  }
 ],
 "metadata": {
  "kernelspec": {
   "display_name": "Python 3",
   "language": "python",
   "name": "python3"
  },
  "language_info": {
   "codemirror_mode": {
    "name": "ipython",
    "version": 3
   },
   "file_extension": ".py",
   "mimetype": "text/x-python",
   "name": "python",
   "nbconvert_exporter": "python",
   "pygments_lexer": "ipython3",
   "version": "3.6.3"
  }
 },
 "nbformat": 4,
 "nbformat_minor": 2
}
